{
 "cells": [
  {
   "cell_type": "markdown",
   "id": "f4492c1d",
   "metadata": {},
   "source": [
    "# Example\n",
    "\n",
    "At this point we're overloading Jupyter notebook as our front end since I'm the only one using this app"
   ]
  },
  {
   "cell_type": "code",
   "execution_count": null,
   "id": "829c3096",
   "metadata": {},
   "outputs": [],
   "source": [
    "from itertools import product\n",
    "from functools import partial\n",
    "import pandas as pd\n",
    "import satori"
   ]
  },
  {
   "cell_type": "code",
   "execution_count": null,
   "id": "01b76530",
   "metadata": {},
   "outputs": [],
   "source": [
    "try:\n",
    "    df = pd.read_csv(\"./example/simpleEURCleaned.csv\")\n",
    "except:\n",
    "    # example of data:\n",
    "    df = pd.DataFrame({\n",
    "        'High': [\n",
    "            0.837240,\n",
    "            0.837100,\n",
    "            0.828020,\n",
    "            0.830290,\n",
    "            0.828780,], \n",
    "        'Low': [\n",
    "            0.830560,\n",
    "            0.825830,\n",
    "            0.824400,\n",
    "            0.823450,\n",
    "            0.820280,],\n",
    "        'Close': [\n",
    "            0.835770,\n",
    "            0.827200,\n",
    "            0.824880,\n",
    "            0.827750,\n",
    "            0.820550,],})\n",
    "past = df.iloc[:round(df.shape[0]*.8)]\n",
    "future = df.iloc[round(df.shape[0]*.8):]"
   ]
  },
  {
   "cell_type": "code",
   "execution_count": null,
   "id": "4f946091",
   "metadata": {},
   "outputs": [],
   "source": [
    "def getNewData() -> pd.DataFrame:\n",
    "    ''' incrementally returns mock future data to simulate the passage of time '''\n",
    "    for i in future.index:\n",
    "        yield pd.DataFrame(future.loc[i]).T"
   ]
  },
  {
   "cell_type": "code",
   "execution_count": null,
   "id": "5ca8361c",
   "metadata": {},
   "outputs": [],
   "source": [
    "data = satori.DataManager(\n",
    "        data=past,\n",
    "        getData=partial(next, getNewData()),\n",
    "        validateData=satori.DataManager.defaultValidateData,\n",
    "        appendData=satori.DataManager.defaultAppend)"
   ]
  },
  {
   "cell_type": "code",
   "execution_count": null,
   "id": "aa2ebe0d",
   "metadata": {},
   "outputs": [],
   "source": [
    "def generateCombinedFeature(df:pd.DataFrame=None, columns:'list(str)'=None, prefix='Diff') -> pd.DataFrame:\n",
    "    '''\n",
    "    example of making a feature out of data you know ahead of time.\n",
    "    most of the time you don't know what kinds of data you'll get...\n",
    "    '''\n",
    "    def name() -> str:\n",
    "        return f'{prefix}{columns[0]}{columns[1]}'\n",
    "\n",
    "    if df is None:\n",
    "        return name()\n",
    "\n",
    "    columns = columns or []\n",
    "    feature = df.loc[:, columns[0]] - df.loc[:, columns[1]]\n",
    "    feature.name = name()\n",
    "    return feature"
   ]
  },
  {
   "cell_type": "code",
   "execution_count": null,
   "id": "9633a1d9",
   "metadata": {},
   "outputs": [],
   "source": [
    "kwargs = {\n",
    "    'hyperParameters': [\n",
    "        satori.HyperParameter(\n",
    "            name='n_estimators',\n",
    "            value=300,\n",
    "            kind=int,\n",
    "            limit=100,\n",
    "            minimum=200,\n",
    "            maximum=5000),\n",
    "        satori.HyperParameter(\n",
    "            name='learning_rate',\n",
    "            value=0.3,\n",
    "            kind=float,\n",
    "            limit=.05,\n",
    "            minimum=.01,\n",
    "            maximum=.1),\n",
    "        satori.HyperParameter(\n",
    "            name='max_depth',\n",
    "            value=6,\n",
    "            kind=int,\n",
    "            limit=1,\n",
    "            minimum=10,\n",
    "            maximum=2),],\n",
    "    'metrics':  {\n",
    "        # raw data features\n",
    "        'raw': satori.ModelManager.rawDataMetric,\n",
    "        # daily percentage change, 1 day ago, 2 days ago, 3 days ago... \n",
    "        **{f'Daily{i}': partial(satori.ModelManager.dailyPercentChangeMetric, yesterday=i) for i in list(range(1, 31))},\n",
    "        # rolling period transformation percentage change, max of the last 7 days, etc... \n",
    "        **{f'Rolling{i}{tx[0:3]}': partial(satori.ModelManager.rollingPercentChangeMetric, window=i, transformation=tx)\n",
    "            for tx, i in product('sum() max() min() mean() median() std()'.split(), list(range(2, 21)))},\n",
    "        # rolling period transformation percentage change, max of the last 50 or 70 days, etc... \n",
    "        **{f'Rolling{i}{tx[0:3]}': partial(satori.ModelManager.rollingPercentChangeMetric, window=i, transformation=tx)\n",
    "            for tx, i in product('sum() max() min() mean() median() std()'.split(), list(range(22, 90, 7)))}},\n",
    "    'features': {'DiffHighLow': partial(generateCombinedFeature, columns=['High', 'Low'])},\n",
    "    'chosenFeatures': ['RawClose', 'RawHigh', 'RawLow', 'DiffHighLow'],\n",
    "    'override': True}"
   ]
  },
  {
   "cell_type": "code",
   "execution_count": null,
   "id": "8ed310a2",
   "metadata": {},
   "outputs": [],
   "source": [
    "modelHigh = satori.ModelManager(\n",
    "    modelPath='modelHigh.joblib',\n",
    "    targetKey='High',\n",
    "    pinnedFeatures=['DiffHighLow'],\n",
    "    **kwargs)"
   ]
  },
  {
   "cell_type": "code",
   "execution_count": null,
   "id": "32e0581d",
   "metadata": {},
   "outputs": [],
   "source": [
    "modelLow = satori.ModelManager(\n",
    "    modelPath='modelLow.joblib',\n",
    "    targetKey='Low',\n",
    "    **kwargs)"
   ]
  },
  {
   "cell_type": "code",
   "execution_count": null,
   "id": "744a4552",
   "metadata": {},
   "outputs": [],
   "source": [
    "modelClose = satori.ModelManager(\n",
    "    modelPath='modelClose.joblib',\n",
    "    targetKey='Close',\n",
    "    **kwargs)"
   ]
  },
  {
   "cell_type": "code",
   "execution_count": null,
   "id": "f8a557f8",
   "metadata": {},
   "outputs": [],
   "source": [
    "learner = satori.Engine(\n",
    "    view=satori.JupyterViewReactive(points=8),\n",
    "    data=data,\n",
    "    models={modelHigh, modelLow, modelClose})"
   ]
  },
  {
   "cell_type": "code",
   "execution_count": null,
   "id": "bd82df25",
   "metadata": {
    "scrolled": false
   },
   "outputs": [],
   "source": [
    "learner.run()"
   ]
  }
 ],
 "metadata": {
  "kernelspec": {
   "display_name": "Python 3",
   "language": "python",
   "name": "python3"
  },
  "language_info": {
   "codemirror_mode": {
    "name": "ipython",
    "version": 3
   },
   "file_extension": ".py",
   "mimetype": "text/x-python",
   "name": "python",
   "nbconvert_exporter": "python",
   "pygments_lexer": "ipython3",
   "version": "3.9.5"
  }
 },
 "nbformat": 4,
 "nbformat_minor": 5
}

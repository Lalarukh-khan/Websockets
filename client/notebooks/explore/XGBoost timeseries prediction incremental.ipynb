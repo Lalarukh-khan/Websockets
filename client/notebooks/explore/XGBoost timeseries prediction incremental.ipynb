{
 "cells": [
  {
   "cell_type": "markdown",
   "id": "b2d58a97",
   "metadata": {},
   "source": [
    "# XGBoost timeseries price prediction"
   ]
  },
  {
   "cell_type": "markdown",
   "id": "890ef93f",
   "metadata": {},
   "source": [
    "this is a test to see how best to train it to predict the next day only."
   ]
  },
  {
   "cell_type": "markdown",
   "id": "baaf8942-b0be-4671-843d-00064ebc9e70",
   "metadata": {},
   "source": [
    "## dataset"
   ]
  },
  {
   "cell_type": "code",
   "execution_count": 105,
   "id": "7b3c3496-c885-4987-b0e7-1a09259a5992",
   "metadata": {},
   "outputs": [],
   "source": [
    "import time \n",
    "import json\n",
    "import requests\n",
    "import datetime as dt\n",
    "import pandas as pd\n",
    "from satori import config \n",
    "from satori.lib.apis import disk"
   ]
  },
  {
   "cell_type": "code",
   "execution_count": 106,
   "id": "a4f2585a-da80-4b38-a760-87075821d26a",
   "metadata": {},
   "outputs": [],
   "source": [
    "streamId = 'simpleEURCleaned'\n",
    "df = pd.read_csv(config.root('lib', 'spoof', f'{streamId}.csv'))"
   ]
  },
  {
   "cell_type": "code",
   "execution_count": 107,
   "id": "60dd91f9",
   "metadata": {},
   "outputs": [],
   "source": [
    "df['Next Day'] = df['Close'].shift(-1)\n",
    "df = df.dropna()\n",
    "df = df.reset_index(drop=True)\n",
    "past = df.iloc[:100]\n",
    "future = df.iloc[100:]\n",
    "features = ['High', 'Low', 'Close']\n",
    "target = 'Next Day'"
   ]
  },
  {
   "cell_type": "code",
   "execution_count": 108,
   "id": "64da37d5-b53c-4410-9442-79a4c2859b1b",
   "metadata": {},
   "outputs": [
    {
     "data": {
      "text/html": [
       "<div>\n",
       "<style scoped>\n",
       "    .dataframe tbody tr th:only-of-type {\n",
       "        vertical-align: middle;\n",
       "    }\n",
       "\n",
       "    .dataframe tbody tr th {\n",
       "        vertical-align: top;\n",
       "    }\n",
       "\n",
       "    .dataframe thead th {\n",
       "        text-align: right;\n",
       "    }\n",
       "</style>\n",
       "<table border=\"1\" class=\"dataframe\">\n",
       "  <thead>\n",
       "    <tr style=\"text-align: right;\">\n",
       "      <th></th>\n",
       "      <th>High</th>\n",
       "      <th>Low</th>\n",
       "      <th>Close</th>\n",
       "      <th>Next Day</th>\n",
       "    </tr>\n",
       "  </thead>\n",
       "  <tbody>\n",
       "    <tr>\n",
       "      <th>0</th>\n",
       "      <td>0.837240</td>\n",
       "      <td>0.830560</td>\n",
       "      <td>0.835770</td>\n",
       "      <td>0.827200</td>\n",
       "    </tr>\n",
       "    <tr>\n",
       "      <th>1</th>\n",
       "      <td>0.837100</td>\n",
       "      <td>0.825830</td>\n",
       "      <td>0.827200</td>\n",
       "      <td>0.824880</td>\n",
       "    </tr>\n",
       "    <tr>\n",
       "      <th>2</th>\n",
       "      <td>0.828020</td>\n",
       "      <td>0.824400</td>\n",
       "      <td>0.824880</td>\n",
       "      <td>0.827750</td>\n",
       "    </tr>\n",
       "    <tr>\n",
       "      <th>3</th>\n",
       "      <td>0.830290</td>\n",
       "      <td>0.823450</td>\n",
       "      <td>0.827750</td>\n",
       "      <td>0.820550</td>\n",
       "    </tr>\n",
       "    <tr>\n",
       "      <th>4</th>\n",
       "      <td>0.828780</td>\n",
       "      <td>0.820280</td>\n",
       "      <td>0.820550</td>\n",
       "      <td>0.818330</td>\n",
       "    </tr>\n",
       "    <tr>\n",
       "      <th>...</th>\n",
       "      <td>...</td>\n",
       "      <td>...</td>\n",
       "      <td>...</td>\n",
       "      <td>...</td>\n",
       "    </tr>\n",
       "    <tr>\n",
       "      <th>4588</th>\n",
       "      <td>0.847230</td>\n",
       "      <td>0.843597</td>\n",
       "      <td>0.844340</td>\n",
       "      <td>0.846088</td>\n",
       "    </tr>\n",
       "    <tr>\n",
       "      <th>4589</th>\n",
       "      <td>0.847020</td>\n",
       "      <td>0.844500</td>\n",
       "      <td>0.846088</td>\n",
       "      <td>0.845600</td>\n",
       "    </tr>\n",
       "    <tr>\n",
       "      <th>4590</th>\n",
       "      <td>0.846070</td>\n",
       "      <td>0.843668</td>\n",
       "      <td>0.845600</td>\n",
       "      <td>0.846600</td>\n",
       "    </tr>\n",
       "    <tr>\n",
       "      <th>4591</th>\n",
       "      <td>0.849574</td>\n",
       "      <td>0.846200</td>\n",
       "      <td>0.846600</td>\n",
       "      <td>0.846600</td>\n",
       "    </tr>\n",
       "    <tr>\n",
       "      <th>4592</th>\n",
       "      <td>0.847314</td>\n",
       "      <td>0.844096</td>\n",
       "      <td>0.846600</td>\n",
       "      <td>0.846600</td>\n",
       "    </tr>\n",
       "  </tbody>\n",
       "</table>\n",
       "<p>4593 rows × 4 columns</p>\n",
       "</div>"
      ],
      "text/plain": [
       "          High       Low     Close  Next Day\n",
       "0     0.837240  0.830560  0.835770  0.827200\n",
       "1     0.837100  0.825830  0.827200  0.824880\n",
       "2     0.828020  0.824400  0.824880  0.827750\n",
       "3     0.830290  0.823450  0.827750  0.820550\n",
       "4     0.828780  0.820280  0.820550  0.818330\n",
       "...        ...       ...       ...       ...\n",
       "4588  0.847230  0.843597  0.844340  0.846088\n",
       "4589  0.847020  0.844500  0.846088  0.845600\n",
       "4590  0.846070  0.843668  0.845600  0.846600\n",
       "4591  0.849574  0.846200  0.846600  0.846600\n",
       "4592  0.847314  0.844096  0.846600  0.846600\n",
       "\n",
       "[4593 rows x 4 columns]"
      ]
     },
     "execution_count": 108,
     "metadata": {},
     "output_type": "execute_result"
    }
   ],
   "source": [
    "df"
   ]
  },
  {
   "cell_type": "code",
   "execution_count": 109,
   "id": "4c468566-3e16-4cac-bdd7-bd3b8cc5725d",
   "metadata": {},
   "outputs": [
    {
     "data": {
      "text/html": [
       "<div>\n",
       "<style scoped>\n",
       "    .dataframe tbody tr th:only-of-type {\n",
       "        vertical-align: middle;\n",
       "    }\n",
       "\n",
       "    .dataframe tbody tr th {\n",
       "        vertical-align: top;\n",
       "    }\n",
       "\n",
       "    .dataframe thead th {\n",
       "        text-align: right;\n",
       "    }\n",
       "</style>\n",
       "<table border=\"1\" class=\"dataframe\">\n",
       "  <thead>\n",
       "    <tr style=\"text-align: right;\">\n",
       "      <th></th>\n",
       "      <th>High</th>\n",
       "      <th>Low</th>\n",
       "      <th>Close</th>\n",
       "      <th>Next Day</th>\n",
       "    </tr>\n",
       "  </thead>\n",
       "  <tbody>\n",
       "    <tr>\n",
       "      <th>0</th>\n",
       "      <td>0.83724</td>\n",
       "      <td>0.83056</td>\n",
       "      <td>0.83577</td>\n",
       "      <td>0.82720</td>\n",
       "    </tr>\n",
       "    <tr>\n",
       "      <th>1</th>\n",
       "      <td>0.83710</td>\n",
       "      <td>0.82583</td>\n",
       "      <td>0.82720</td>\n",
       "      <td>0.82488</td>\n",
       "    </tr>\n",
       "    <tr>\n",
       "      <th>2</th>\n",
       "      <td>0.82802</td>\n",
       "      <td>0.82440</td>\n",
       "      <td>0.82488</td>\n",
       "      <td>0.82775</td>\n",
       "    </tr>\n",
       "    <tr>\n",
       "      <th>3</th>\n",
       "      <td>0.83029</td>\n",
       "      <td>0.82345</td>\n",
       "      <td>0.82775</td>\n",
       "      <td>0.82055</td>\n",
       "    </tr>\n",
       "    <tr>\n",
       "      <th>4</th>\n",
       "      <td>0.82878</td>\n",
       "      <td>0.82028</td>\n",
       "      <td>0.82055</td>\n",
       "      <td>0.81833</td>\n",
       "    </tr>\n",
       "    <tr>\n",
       "      <th>...</th>\n",
       "      <td>...</td>\n",
       "      <td>...</td>\n",
       "      <td>...</td>\n",
       "      <td>...</td>\n",
       "    </tr>\n",
       "    <tr>\n",
       "      <th>95</th>\n",
       "      <td>0.82932</td>\n",
       "      <td>0.82672</td>\n",
       "      <td>0.82829</td>\n",
       "      <td>0.83766</td>\n",
       "    </tr>\n",
       "    <tr>\n",
       "      <th>96</th>\n",
       "      <td>0.83963</td>\n",
       "      <td>0.82761</td>\n",
       "      <td>0.83766</td>\n",
       "      <td>0.83703</td>\n",
       "    </tr>\n",
       "    <tr>\n",
       "      <th>97</th>\n",
       "      <td>0.84196</td>\n",
       "      <td>0.83521</td>\n",
       "      <td>0.83703</td>\n",
       "      <td>0.83424</td>\n",
       "    </tr>\n",
       "    <tr>\n",
       "      <th>98</th>\n",
       "      <td>0.84034</td>\n",
       "      <td>0.83403</td>\n",
       "      <td>0.83424</td>\n",
       "      <td>0.83313</td>\n",
       "    </tr>\n",
       "    <tr>\n",
       "      <th>99</th>\n",
       "      <td>0.83815</td>\n",
       "      <td>0.83001</td>\n",
       "      <td>0.83313</td>\n",
       "      <td>0.83285</td>\n",
       "    </tr>\n",
       "  </tbody>\n",
       "</table>\n",
       "<p>100 rows × 4 columns</p>\n",
       "</div>"
      ],
      "text/plain": [
       "       High      Low    Close  Next Day\n",
       "0   0.83724  0.83056  0.83577   0.82720\n",
       "1   0.83710  0.82583  0.82720   0.82488\n",
       "2   0.82802  0.82440  0.82488   0.82775\n",
       "3   0.83029  0.82345  0.82775   0.82055\n",
       "4   0.82878  0.82028  0.82055   0.81833\n",
       "..      ...      ...      ...       ...\n",
       "95  0.82932  0.82672  0.82829   0.83766\n",
       "96  0.83963  0.82761  0.83766   0.83703\n",
       "97  0.84196  0.83521  0.83703   0.83424\n",
       "98  0.84034  0.83403  0.83424   0.83313\n",
       "99  0.83815  0.83001  0.83313   0.83285\n",
       "\n",
       "[100 rows x 4 columns]"
      ]
     },
     "execution_count": 109,
     "metadata": {},
     "output_type": "execute_result"
    }
   ],
   "source": [
    "past"
   ]
  },
  {
   "cell_type": "code",
   "execution_count": 110,
   "id": "62a6381c-99e3-4548-907c-58a9e8cbcb66",
   "metadata": {},
   "outputs": [
    {
     "data": {
      "text/html": [
       "<div>\n",
       "<style scoped>\n",
       "    .dataframe tbody tr th:only-of-type {\n",
       "        vertical-align: middle;\n",
       "    }\n",
       "\n",
       "    .dataframe tbody tr th {\n",
       "        vertical-align: top;\n",
       "    }\n",
       "\n",
       "    .dataframe thead th {\n",
       "        text-align: right;\n",
       "    }\n",
       "</style>\n",
       "<table border=\"1\" class=\"dataframe\">\n",
       "  <thead>\n",
       "    <tr style=\"text-align: right;\">\n",
       "      <th></th>\n",
       "      <th>High</th>\n",
       "      <th>Low</th>\n",
       "      <th>Close</th>\n",
       "      <th>Next Day</th>\n",
       "    </tr>\n",
       "  </thead>\n",
       "  <tbody>\n",
       "    <tr>\n",
       "      <th>100</th>\n",
       "      <td>0.833130</td>\n",
       "      <td>0.827950</td>\n",
       "      <td>0.832850</td>\n",
       "      <td>0.844020</td>\n",
       "    </tr>\n",
       "    <tr>\n",
       "      <th>101</th>\n",
       "      <td>0.845450</td>\n",
       "      <td>0.831950</td>\n",
       "      <td>0.844020</td>\n",
       "      <td>0.846740</td>\n",
       "    </tr>\n",
       "    <tr>\n",
       "      <th>102</th>\n",
       "      <td>0.845950</td>\n",
       "      <td>0.839490</td>\n",
       "      <td>0.846740</td>\n",
       "      <td>0.838570</td>\n",
       "    </tr>\n",
       "    <tr>\n",
       "      <th>103</th>\n",
       "      <td>0.848100</td>\n",
       "      <td>0.838150</td>\n",
       "      <td>0.838570</td>\n",
       "      <td>0.843880</td>\n",
       "    </tr>\n",
       "    <tr>\n",
       "      <th>104</th>\n",
       "      <td>0.847310</td>\n",
       "      <td>0.837590</td>\n",
       "      <td>0.843880</td>\n",
       "      <td>0.843030</td>\n",
       "    </tr>\n",
       "    <tr>\n",
       "      <th>...</th>\n",
       "      <td>...</td>\n",
       "      <td>...</td>\n",
       "      <td>...</td>\n",
       "      <td>...</td>\n",
       "    </tr>\n",
       "    <tr>\n",
       "      <th>4588</th>\n",
       "      <td>0.847230</td>\n",
       "      <td>0.843597</td>\n",
       "      <td>0.844340</td>\n",
       "      <td>0.846088</td>\n",
       "    </tr>\n",
       "    <tr>\n",
       "      <th>4589</th>\n",
       "      <td>0.847020</td>\n",
       "      <td>0.844500</td>\n",
       "      <td>0.846088</td>\n",
       "      <td>0.845600</td>\n",
       "    </tr>\n",
       "    <tr>\n",
       "      <th>4590</th>\n",
       "      <td>0.846070</td>\n",
       "      <td>0.843668</td>\n",
       "      <td>0.845600</td>\n",
       "      <td>0.846600</td>\n",
       "    </tr>\n",
       "    <tr>\n",
       "      <th>4591</th>\n",
       "      <td>0.849574</td>\n",
       "      <td>0.846200</td>\n",
       "      <td>0.846600</td>\n",
       "      <td>0.846600</td>\n",
       "    </tr>\n",
       "    <tr>\n",
       "      <th>4592</th>\n",
       "      <td>0.847314</td>\n",
       "      <td>0.844096</td>\n",
       "      <td>0.846600</td>\n",
       "      <td>0.846600</td>\n",
       "    </tr>\n",
       "  </tbody>\n",
       "</table>\n",
       "<p>4493 rows × 4 columns</p>\n",
       "</div>"
      ],
      "text/plain": [
       "          High       Low     Close  Next Day\n",
       "100   0.833130  0.827950  0.832850  0.844020\n",
       "101   0.845450  0.831950  0.844020  0.846740\n",
       "102   0.845950  0.839490  0.846740  0.838570\n",
       "103   0.848100  0.838150  0.838570  0.843880\n",
       "104   0.847310  0.837590  0.843880  0.843030\n",
       "...        ...       ...       ...       ...\n",
       "4588  0.847230  0.843597  0.844340  0.846088\n",
       "4589  0.847020  0.844500  0.846088  0.845600\n",
       "4590  0.846070  0.843668  0.845600  0.846600\n",
       "4591  0.849574  0.846200  0.846600  0.846600\n",
       "4592  0.847314  0.844096  0.846600  0.846600\n",
       "\n",
       "[4493 rows x 4 columns]"
      ]
     },
     "execution_count": 110,
     "metadata": {},
     "output_type": "execute_result"
    }
   ],
   "source": [
    "future"
   ]
  },
  {
   "cell_type": "markdown",
   "id": "ead4405e",
   "metadata": {},
   "source": [
    "## imports"
   ]
  },
  {
   "cell_type": "code",
   "execution_count": 111,
   "id": "e795c373",
   "metadata": {},
   "outputs": [],
   "source": [
    "#!pip install --upgrade pip --user\n",
    "#!pip install xgboost\n",
    "#!pip install seaborn"
   ]
  },
  {
   "cell_type": "code",
   "execution_count": 112,
   "id": "38f38c1d",
   "metadata": {},
   "outputs": [],
   "source": [
    "import numpy as np\n",
    "import pandas as pd\n",
    "from sklearn.model_selection import train_test_split\n",
    "from xgboost import XGBRegressor\n",
    "import seaborn as sns\n",
    "from matplotlib import pyplot as plt\n",
    "%matplotlib inline\n",
    "big = {'figsize':(16,10)}\n",
    "verbose = False"
   ]
  },
  {
   "cell_type": "markdown",
   "id": "402633dc",
   "metadata": {},
   "source": [
    "## train test split"
   ]
  },
  {
   "cell_type": "code",
   "execution_count": 123,
   "id": "2f720794",
   "metadata": {},
   "outputs": [],
   "source": [
    "def getSplit(i):\n",
    "    return train_test_split(\n",
    "        df.loc[:2299+i, features], \n",
    "        df.loc[:2299+i, target], \n",
    "        test_size=.2, # 2 \n",
    "        shuffle=False)\n",
    "X_train, X_test, y_train, y_test = getSplit(0)"
   ]
  },
  {
   "cell_type": "code",
   "execution_count": 124,
   "id": "7e656327-aefc-4aea-b312-96a055fffbbf",
   "metadata": {},
   "outputs": [
    {
     "data": {
      "text/html": [
       "<div>\n",
       "<style scoped>\n",
       "    .dataframe tbody tr th:only-of-type {\n",
       "        vertical-align: middle;\n",
       "    }\n",
       "\n",
       "    .dataframe tbody tr th {\n",
       "        vertical-align: top;\n",
       "    }\n",
       "\n",
       "    .dataframe thead th {\n",
       "        text-align: right;\n",
       "    }\n",
       "</style>\n",
       "<table border=\"1\" class=\"dataframe\">\n",
       "  <thead>\n",
       "    <tr style=\"text-align: right;\">\n",
       "      <th></th>\n",
       "      <th>High</th>\n",
       "      <th>Low</th>\n",
       "      <th>Close</th>\n",
       "    </tr>\n",
       "  </thead>\n",
       "  <tbody>\n",
       "    <tr>\n",
       "      <th>1838</th>\n",
       "      <td>0.74729</td>\n",
       "      <td>0.73873</td>\n",
       "      <td>0.74749</td>\n",
       "    </tr>\n",
       "    <tr>\n",
       "      <th>1839</th>\n",
       "      <td>0.74610</td>\n",
       "      <td>0.73975</td>\n",
       "      <td>0.74338</td>\n",
       "    </tr>\n",
       "  </tbody>\n",
       "</table>\n",
       "</div>"
      ],
      "text/plain": [
       "         High      Low    Close\n",
       "1838  0.74729  0.73873  0.74749\n",
       "1839  0.74610  0.73975  0.74338"
      ]
     },
     "execution_count": 124,
     "metadata": {},
     "output_type": "execute_result"
    }
   ],
   "source": [
    "X_train.tail(2)"
   ]
  },
  {
   "cell_type": "code",
   "execution_count": 125,
   "id": "4c4ff5e3",
   "metadata": {},
   "outputs": [
    {
     "data": {
      "text/html": [
       "<div>\n",
       "<style scoped>\n",
       "    .dataframe tbody tr th:only-of-type {\n",
       "        vertical-align: middle;\n",
       "    }\n",
       "\n",
       "    .dataframe tbody tr th {\n",
       "        vertical-align: top;\n",
       "    }\n",
       "\n",
       "    .dataframe thead th {\n",
       "        text-align: right;\n",
       "    }\n",
       "</style>\n",
       "<table border=\"1\" class=\"dataframe\">\n",
       "  <thead>\n",
       "    <tr style=\"text-align: right;\">\n",
       "      <th></th>\n",
       "      <th>High</th>\n",
       "      <th>Low</th>\n",
       "      <th>Close</th>\n",
       "    </tr>\n",
       "  </thead>\n",
       "  <tbody>\n",
       "    <tr>\n",
       "      <th>1840</th>\n",
       "      <td>0.743440</td>\n",
       "      <td>0.735890</td>\n",
       "      <td>0.74250</td>\n",
       "    </tr>\n",
       "    <tr>\n",
       "      <th>1841</th>\n",
       "      <td>0.738170</td>\n",
       "      <td>0.730990</td>\n",
       "      <td>0.73424</td>\n",
       "    </tr>\n",
       "    <tr>\n",
       "      <th>1842</th>\n",
       "      <td>0.736600</td>\n",
       "      <td>0.730780</td>\n",
       "      <td>0.73292</td>\n",
       "    </tr>\n",
       "    <tr>\n",
       "      <th>1843</th>\n",
       "      <td>0.732590</td>\n",
       "      <td>0.728990</td>\n",
       "      <td>0.73067</td>\n",
       "    </tr>\n",
       "    <tr>\n",
       "      <th>1844</th>\n",
       "      <td>0.732980</td>\n",
       "      <td>0.726940</td>\n",
       "      <td>0.72939</td>\n",
       "    </tr>\n",
       "    <tr>\n",
       "      <th>...</th>\n",
       "      <td>...</td>\n",
       "      <td>...</td>\n",
       "      <td>...</td>\n",
       "    </tr>\n",
       "    <tr>\n",
       "      <th>2295</th>\n",
       "      <td>0.768280</td>\n",
       "      <td>0.764584</td>\n",
       "      <td>0.76516</td>\n",
       "    </tr>\n",
       "    <tr>\n",
       "      <th>2296</th>\n",
       "      <td>0.767900</td>\n",
       "      <td>0.764500</td>\n",
       "      <td>0.76790</td>\n",
       "    </tr>\n",
       "    <tr>\n",
       "      <th>2297</th>\n",
       "      <td>0.771992</td>\n",
       "      <td>0.765000</td>\n",
       "      <td>0.76510</td>\n",
       "    </tr>\n",
       "    <tr>\n",
       "      <th>2298</th>\n",
       "      <td>0.773772</td>\n",
       "      <td>0.769290</td>\n",
       "      <td>0.77080</td>\n",
       "    </tr>\n",
       "    <tr>\n",
       "      <th>2299</th>\n",
       "      <td>0.772550</td>\n",
       "      <td>0.767931</td>\n",
       "      <td>0.77130</td>\n",
       "    </tr>\n",
       "  </tbody>\n",
       "</table>\n",
       "<p>460 rows × 3 columns</p>\n",
       "</div>"
      ],
      "text/plain": [
       "          High       Low    Close\n",
       "1840  0.743440  0.735890  0.74250\n",
       "1841  0.738170  0.730990  0.73424\n",
       "1842  0.736600  0.730780  0.73292\n",
       "1843  0.732590  0.728990  0.73067\n",
       "1844  0.732980  0.726940  0.72939\n",
       "...        ...       ...      ...\n",
       "2295  0.768280  0.764584  0.76516\n",
       "2296  0.767900  0.764500  0.76790\n",
       "2297  0.771992  0.765000  0.76510\n",
       "2298  0.773772  0.769290  0.77080\n",
       "2299  0.772550  0.767931  0.77130\n",
       "\n",
       "[460 rows x 3 columns]"
      ]
     },
     "execution_count": 125,
     "metadata": {},
     "output_type": "execute_result"
    }
   ],
   "source": [
    "X_test"
   ]
  },
  {
   "cell_type": "code",
   "execution_count": 126,
   "id": "6b340fd3",
   "metadata": {},
   "outputs": [
    {
     "data": {
      "text/plain": [
       "0       0.82720\n",
       "1       0.82488\n",
       "2       0.82775\n",
       "3       0.82055\n",
       "4       0.81833\n",
       "         ...   \n",
       "1835    0.74737\n",
       "1836    0.75279\n",
       "1837    0.74749\n",
       "1838    0.74338\n",
       "1839    0.74250\n",
       "Name: Next Day, Length: 1840, dtype: float64"
      ]
     },
     "execution_count": 126,
     "metadata": {},
     "output_type": "execute_result"
    }
   ],
   "source": [
    "y_train"
   ]
  },
  {
   "cell_type": "code",
   "execution_count": 127,
   "id": "e57f7792",
   "metadata": {},
   "outputs": [
    {
     "data": {
      "text/plain": [
       "1840    0.73424\n",
       "1841    0.73292\n",
       "1842    0.73067\n",
       "1843    0.72939\n",
       "1844    0.72870\n",
       "         ...   \n",
       "2295    0.76790\n",
       "2296    0.76510\n",
       "2297    0.77080\n",
       "2298    0.77130\n",
       "2299    0.77290\n",
       "Name: Next Day, Length: 460, dtype: float64"
      ]
     },
     "execution_count": 127,
     "metadata": {},
     "output_type": "execute_result"
    }
   ],
   "source": [
    "y_test"
   ]
  },
  {
   "cell_type": "markdown",
   "id": "8ff48306",
   "metadata": {},
   "source": [
    "## fit"
   ]
  },
  {
   "cell_type": "code",
   "execution_count": 128,
   "id": "043e48df",
   "metadata": {},
   "outputs": [],
   "source": [
    "def getScore(X_train, X_test, y_train, y_test):\n",
    "    reg = XGBRegressor(n_estimators=500, learning_rate=0.01)\n",
    "    reg.fit(X_train,\n",
    "            y_train,\n",
    "            eval_set=[(X_train, y_train), (X_test, y_test)],\n",
    "            #eval_metric='mae', \n",
    "            #early_stopping_rounds=10,\n",
    "            verbose=False)\n",
    "    return reg.score(X_test, y_test)"
   ]
  },
  {
   "cell_type": "markdown",
   "id": "aa194960-ea4d-4580-8067-20153dca1f9a",
   "metadata": {},
   "source": [
    "## test full train version"
   ]
  },
  {
   "cell_type": "code",
   "execution_count": 122,
   "id": "395d3d51-65b6-4429-b982-818b62c8e397",
   "metadata": {},
   "outputs": [
    {
     "name": "stdout",
     "output_type": "stream",
     "text": [
      "-1183.1968869482153\n"
     ]
    }
   ],
   "source": [
    "scores = []\n",
    "for i in range(2296):\n",
    "    scores.append(getScore(*getSplit(i)))\n",
    "score = sum(scores) / len(scores)\n",
    "print(score)"
   ]
  },
  {
   "cell_type": "markdown",
   "id": "9102aef1-d19e-4cab-bc92-6ae9579cdab0",
   "metadata": {},
   "source": [
    "## test .8 split train version"
   ]
  },
  {
   "cell_type": "code",
   "execution_count": 129,
   "id": "c70bb1c0-250b-49ed-8fb4-e9b0fb02d354",
   "metadata": {},
   "outputs": [
    {
     "name": "stdout",
     "output_type": "stream",
     "text": [
      "0.6594544981366467\n"
     ]
    }
   ],
   "source": [
    "scores = []\n",
    "for i in range(2296):\n",
    "    scores.append(getScore(*getSplit(i)))\n",
    "score = sum(scores) / len(scores)\n",
    "print(score)"
   ]
  },
  {
   "cell_type": "code",
   "execution_count": null,
   "id": "1a95bdc5-cc9e-4c19-b5e9-2998fa5b0456",
   "metadata": {},
   "outputs": [],
   "source": []
  }
 ],
 "metadata": {
  "kernelspec": {
   "display_name": "Python 3",
   "language": "python",
   "name": "python3"
  },
  "language_info": {
   "codemirror_mode": {
    "name": "ipython",
    "version": 3
   },
   "file_extension": ".py",
   "mimetype": "text/x-python",
   "name": "python",
   "nbconvert_exporter": "python",
   "pygments_lexer": "ipython3",
   "version": "3.9.5"
  }
 },
 "nbformat": 4,
 "nbformat_minor": 5
}

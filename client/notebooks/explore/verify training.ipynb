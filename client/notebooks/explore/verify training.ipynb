{
 "cells": [
  {
   "cell_type": "markdown",
   "id": "cbbd9bd8",
   "metadata": {},
   "source": [
    "here we have to verify we're training correctly. we'll train manually and using the model file."
   ]
  },
  {
   "cell_type": "code",
   "execution_count": 51,
   "id": "a2be6293",
   "metadata": {},
   "outputs": [],
   "source": [
    "from itertools import product\n",
    "from functools import partial\n",
    "import datetime as dt\n",
    "import pandas as pd\n",
    "import satori\n",
    "import numpy as np"
   ]
  },
  {
   "cell_type": "code",
   "execution_count": 60,
   "id": "2fb7b32d",
   "metadata": {},
   "outputs": [],
   "source": [
    "import os\n",
    "import random \n",
    "import joblib\n",
    "import numpy as np\n",
    "import pandas as pd\n",
    "from itertools import product\n",
    "from functools import partial\n",
    "from sklearn.model_selection import train_test_split\n",
    "from sklearn.metrics import mean_absolute_error\n",
    "import ppscore\n",
    "from xgboost import XGBRegressor\n"
   ]
  },
  {
   "cell_type": "code",
   "execution_count": 3,
   "id": "3728e4ad",
   "metadata": {},
   "outputs": [
    {
     "data": {
      "text/html": [
       "<div>\n",
       "<style scoped>\n",
       "    .dataframe tbody tr th:only-of-type {\n",
       "        vertical-align: middle;\n",
       "    }\n",
       "\n",
       "    .dataframe tbody tr th {\n",
       "        vertical-align: top;\n",
       "    }\n",
       "\n",
       "    .dataframe thead th {\n",
       "        text-align: right;\n",
       "    }\n",
       "</style>\n",
       "<table border=\"1\" class=\"dataframe\">\n",
       "  <thead>\n",
       "    <tr style=\"text-align: right;\">\n",
       "      <th></th>\n",
       "      <th>USD</th>\n",
       "      <th>CHF</th>\n",
       "      <th>GBP</th>\n",
       "      <th>CAD</th>\n",
       "      <th>AUD</th>\n",
       "      <th>NZD</th>\n",
       "      <th>JPY</th>\n",
       "      <th>year</th>\n",
       "      <th>month</th>\n",
       "      <th>day</th>\n",
       "      <th>weekday</th>\n",
       "    </tr>\n",
       "  </thead>\n",
       "  <tbody>\n",
       "    <tr>\n",
       "      <th>2000-01-22</th>\n",
       "      <td>1.0097</td>\n",
       "      <td>1.6102</td>\n",
       "      <td>0.6113</td>\n",
       "      <td>1.4607</td>\n",
       "      <td>1.5215</td>\n",
       "      <td>1.9623</td>\n",
       "      <td>105.53</td>\n",
       "      <td>2000</td>\n",
       "      <td>1</td>\n",
       "      <td>22</td>\n",
       "      <td>5</td>\n",
       "    </tr>\n",
       "    <tr>\n",
       "      <th>2000-01-23</th>\n",
       "      <td>1.0097</td>\n",
       "      <td>1.6102</td>\n",
       "      <td>0.6113</td>\n",
       "      <td>1.4607</td>\n",
       "      <td>1.5215</td>\n",
       "      <td>1.9623</td>\n",
       "      <td>105.53</td>\n",
       "      <td>2000</td>\n",
       "      <td>1</td>\n",
       "      <td>23</td>\n",
       "      <td>6</td>\n",
       "    </tr>\n",
       "  </tbody>\n",
       "</table>\n",
       "</div>"
      ],
      "text/plain": [
       "               USD     CHF     GBP     CAD     AUD     NZD     JPY  year  \\\n",
       "2000-01-22  1.0097  1.6102  0.6113  1.4607  1.5215  1.9623  105.53  2000   \n",
       "2000-01-23  1.0097  1.6102  0.6113  1.4607  1.5215  1.9623  105.53  2000   \n",
       "\n",
       "            month  day  weekday  \n",
       "2000-01-22      1   22        5  \n",
       "2000-01-23      1   23        6  "
      ]
     },
     "execution_count": 3,
     "metadata": {},
     "output_type": "execute_result"
    }
   ],
   "source": [
    "try:\n",
    "    df = pd.read_csv(\"../../data/history/EUR.csv\", index_col=0)\n",
    "except:\n",
    "    pass\n",
    "    #df = satori.apis.fx.compileHistory(\n",
    "    #    name='EUR', \n",
    "    #    days=8000, \n",
    "    #    cooldown=0, \n",
    "    #    saveDuring=True)\n",
    "df.head(2)"
   ]
  },
  {
   "cell_type": "code",
   "execution_count": 4,
   "id": "d4fa8952",
   "metadata": {},
   "outputs": [
    {
     "data": {
      "text/plain": [
       "Index(['USD', 'CHF', 'GBP', 'CAD', 'AUD', 'NZD', 'JPY', 'year', 'month', 'day',\n",
       "       'weekday'],\n",
       "      dtype='object')"
      ]
     },
     "execution_count": 4,
     "metadata": {},
     "output_type": "execute_result"
    }
   ],
   "source": [
    "df.columns"
   ]
  },
  {
   "cell_type": "code",
   "execution_count": 5,
   "id": "1b0290bc",
   "metadata": {},
   "outputs": [],
   "source": [
    "targets = ['USD', 'CHF', 'GBP', 'CAD', 'AUD', 'NZD', 'JPY',]\n",
    "times = ['year', 'month', 'day', 'weekday',]"
   ]
  },
  {
   "cell_type": "code",
   "execution_count": 6,
   "id": "4b4fa593",
   "metadata": {},
   "outputs": [],
   "source": [
    "# drop rows if targets are nan\n",
    "df = df.drop(index=df[df[targets].isna().any(axis=1)].index)"
   ]
  },
  {
   "cell_type": "code",
   "execution_count": 7,
   "id": "d8a513d1",
   "metadata": {},
   "outputs": [
    {
     "data": {
      "text/html": [
       "<div>\n",
       "<style scoped>\n",
       "    .dataframe tbody tr th:only-of-type {\n",
       "        vertical-align: middle;\n",
       "    }\n",
       "\n",
       "    .dataframe tbody tr th {\n",
       "        vertical-align: top;\n",
       "    }\n",
       "\n",
       "    .dataframe thead th {\n",
       "        text-align: right;\n",
       "    }\n",
       "</style>\n",
       "<table border=\"1\" class=\"dataframe\">\n",
       "  <thead>\n",
       "    <tr style=\"text-align: right;\">\n",
       "      <th></th>\n",
       "      <th>USD</th>\n",
       "      <th>CHF</th>\n",
       "      <th>GBP</th>\n",
       "      <th>CAD</th>\n",
       "      <th>AUD</th>\n",
       "      <th>NZD</th>\n",
       "      <th>JPY</th>\n",
       "      <th>year</th>\n",
       "      <th>month</th>\n",
       "      <th>day</th>\n",
       "      <th>weekday</th>\n",
       "    </tr>\n",
       "  </thead>\n",
       "  <tbody>\n",
       "    <tr>\n",
       "      <th>2022-01-14</th>\n",
       "      <td>1.1447</td>\n",
       "      <td>1.0429</td>\n",
       "      <td>0.83508</td>\n",
       "      <td>1.433</td>\n",
       "      <td>1.5803</td>\n",
       "      <td>1.6745</td>\n",
       "      <td>130.17</td>\n",
       "      <td>2022</td>\n",
       "      <td>1</td>\n",
       "      <td>14</td>\n",
       "      <td>4</td>\n",
       "    </tr>\n",
       "    <tr>\n",
       "      <th>2022-01-15</th>\n",
       "      <td>1.1447</td>\n",
       "      <td>1.0429</td>\n",
       "      <td>0.83508</td>\n",
       "      <td>1.433</td>\n",
       "      <td>1.5803</td>\n",
       "      <td>1.6745</td>\n",
       "      <td>130.17</td>\n",
       "      <td>2022</td>\n",
       "      <td>1</td>\n",
       "      <td>15</td>\n",
       "      <td>5</td>\n",
       "    </tr>\n",
       "  </tbody>\n",
       "</table>\n",
       "</div>"
      ],
      "text/plain": [
       "               USD     CHF      GBP    CAD     AUD     NZD     JPY  year  \\\n",
       "2022-01-14  1.1447  1.0429  0.83508  1.433  1.5803  1.6745  130.17  2022   \n",
       "2022-01-15  1.1447  1.0429  0.83508  1.433  1.5803  1.6745  130.17  2022   \n",
       "\n",
       "            month  day  weekday  \n",
       "2022-01-14      1   14        4  \n",
       "2022-01-15      1   15        5  "
      ]
     },
     "execution_count": 7,
     "metadata": {},
     "output_type": "execute_result"
    }
   ],
   "source": [
    "# drop all but targets and times\n",
    "df = df[[*targets, *times]]\n",
    "df.tail(2)"
   ]
  },
  {
   "cell_type": "code",
   "execution_count": 8,
   "id": "4958a7f1",
   "metadata": {},
   "outputs": [],
   "source": [
    "kwargs = {\n",
    "    'hyperParameters': [\n",
    "        satori.HyperParameter(\n",
    "            name='n_estimators',\n",
    "            value=300,\n",
    "            kind=int,\n",
    "            limit=100,\n",
    "            minimum=200,\n",
    "            maximum=5000),\n",
    "        satori.HyperParameter(\n",
    "            name='learning_rate',\n",
    "            value=0.3,\n",
    "            kind=float,\n",
    "            limit=.05,\n",
    "            minimum=.01,\n",
    "            maximum=.1),\n",
    "        satori.HyperParameter(\n",
    "            name='max_depth',\n",
    "            value=6,\n",
    "            kind=int,\n",
    "            limit=1,\n",
    "            minimum=2,\n",
    "            maximum=10),\n",
    "        #satori.HyperParameter(\n",
    "        #    name='gamma',\n",
    "        #    value=0,\n",
    "        #    kind=float,\n",
    "        #    limit=.05,\n",
    "        #    minimum=0,\n",
    "        #    maximum=1),\n",
    "        #satori.HyperParameter(\n",
    "        #    name='min_child_weight',\n",
    "        #    value=1,\n",
    "        #    kind=float,\n",
    "        #    limit=.1,\n",
    "        #    minimum=0,\n",
    "        #    maximum=5),\n",
    "        #satori.HyperParameter(\n",
    "        #    name='max_delta_step',\n",
    "        #    value=0,\n",
    "        #    kind=float,\n",
    "        #    limit=.01,\n",
    "        #    minimum=0,\n",
    "        #    maximum=1),\n",
    "        #satori.HyperParameter(\n",
    "        #    name='scale_pos_weight',\n",
    "        #    value=1,\n",
    "        #    kind=float,\n",
    "        #    limit=.1,\n",
    "        #    minimum=0,\n",
    "        #    maximum=5),\n",
    "        #satori.HyperParameter(\n",
    "        #    name='base_score',\n",
    "        #    value=.5,\n",
    "        #    kind=float,\n",
    "        #    limit=.05,\n",
    "        #    minimum=0,\n",
    "        #    maximum=1),\n",
    "    ],\n",
    "    'metrics':  {\n",
    "        # raw data features\n",
    "        'raw': satori.ModelManager.rawDataMetric,\n",
    "        # daily percentage change, 1 day ago, 2 days ago, 3 days ago... \n",
    "        **{f'Daily{i}': partial(satori.ModelManager.dailyPercentChangeMetric, yesterday=i) for i in list(range(1, 31))},\n",
    "        # rolling period transformation percentage change, max of the last 7 days, etc... \n",
    "        **{f'Rolling{i}{tx[0:3]}': partial(satori.ModelManager.rollingPercentChangeMetric, window=i, transformation=tx)\n",
    "            for tx, i in product('sum() max() min() mean() median() std()'.split(), list(range(2, 21)))},\n",
    "        # rolling period transformation percentage change, max of the last 50 or 70 days, etc... \n",
    "        **{f'Rolling{i}{tx[0:3]}': partial(satori.ModelManager.rollingPercentChangeMetric, window=i, transformation=tx)\n",
    "            for tx, i in product('sum() max() min() mean() median() std()'.split(), list(range(22, 90, 7)))}},\n",
    "    'override': True}"
   ]
  },
  {
   "cell_type": "code",
   "execution_count": 9,
   "id": "e1be178f",
   "metadata": {},
   "outputs": [],
   "source": [
    "models = {\n",
    "        satori.ModelManager(\n",
    "            modelPath=f'../../models/EUR{currency}New.jobLib',\n",
    "            chosenFeatures=[f'Raw{currency}'],\n",
    "            pinnedFeatures=[f'Raw{currency}'],\n",
    "            targetKey=currency,\n",
    "            **kwargs) \n",
    "        for currency in targets\n",
    "    }"
   ]
  },
  {
   "cell_type": "code",
   "execution_count": 25,
   "id": "0c409bc3",
   "metadata": {},
   "outputs": [
    {
     "data": {
      "text/html": [
       "<div>\n",
       "<style scoped>\n",
       "    .dataframe tbody tr th:only-of-type {\n",
       "        vertical-align: middle;\n",
       "    }\n",
       "\n",
       "    .dataframe tbody tr th {\n",
       "        vertical-align: top;\n",
       "    }\n",
       "\n",
       "    .dataframe thead th {\n",
       "        text-align: right;\n",
       "    }\n",
       "</style>\n",
       "<table border=\"1\" class=\"dataframe\">\n",
       "  <thead>\n",
       "    <tr style=\"text-align: right;\">\n",
       "      <th></th>\n",
       "      <th>High</th>\n",
       "      <th>Low</th>\n",
       "      <th>Close</th>\n",
       "    </tr>\n",
       "  </thead>\n",
       "  <tbody>\n",
       "    <tr>\n",
       "      <th>0</th>\n",
       "      <td>0.837240</td>\n",
       "      <td>0.830560</td>\n",
       "      <td>0.83577</td>\n",
       "    </tr>\n",
       "    <tr>\n",
       "      <th>1</th>\n",
       "      <td>0.837100</td>\n",
       "      <td>0.825830</td>\n",
       "      <td>0.82720</td>\n",
       "    </tr>\n",
       "    <tr>\n",
       "      <th>2</th>\n",
       "      <td>0.828020</td>\n",
       "      <td>0.824400</td>\n",
       "      <td>0.82488</td>\n",
       "    </tr>\n",
       "    <tr>\n",
       "      <th>3</th>\n",
       "      <td>0.830290</td>\n",
       "      <td>0.823450</td>\n",
       "      <td>0.82775</td>\n",
       "    </tr>\n",
       "    <tr>\n",
       "      <th>4</th>\n",
       "      <td>0.828780</td>\n",
       "      <td>0.820280</td>\n",
       "      <td>0.82055</td>\n",
       "    </tr>\n",
       "    <tr>\n",
       "      <th>...</th>\n",
       "      <td>...</td>\n",
       "      <td>...</td>\n",
       "      <td>...</td>\n",
       "    </tr>\n",
       "    <tr>\n",
       "      <th>4590</th>\n",
       "      <td>0.846070</td>\n",
       "      <td>0.843668</td>\n",
       "      <td>0.84560</td>\n",
       "    </tr>\n",
       "    <tr>\n",
       "      <th>4591</th>\n",
       "      <td>0.849574</td>\n",
       "      <td>0.846200</td>\n",
       "      <td>0.84660</td>\n",
       "    </tr>\n",
       "    <tr>\n",
       "      <th>4592</th>\n",
       "      <td>0.847314</td>\n",
       "      <td>0.844096</td>\n",
       "      <td>0.84660</td>\n",
       "    </tr>\n",
       "    <tr>\n",
       "      <th>4593</th>\n",
       "      <td>0.847200</td>\n",
       "      <td>0.844800</td>\n",
       "      <td>0.84660</td>\n",
       "    </tr>\n",
       "    <tr>\n",
       "      <th>4594</th>\n",
       "      <td>0.828800</td>\n",
       "      <td>0.820260</td>\n",
       "      <td>0.82055</td>\n",
       "    </tr>\n",
       "  </tbody>\n",
       "</table>\n",
       "<p>4595 rows × 3 columns</p>\n",
       "</div>"
      ],
      "text/plain": [
       "          High       Low    Close\n",
       "0     0.837240  0.830560  0.83577\n",
       "1     0.837100  0.825830  0.82720\n",
       "2     0.828020  0.824400  0.82488\n",
       "3     0.830290  0.823450  0.82775\n",
       "4     0.828780  0.820280  0.82055\n",
       "...        ...       ...      ...\n",
       "4590  0.846070  0.843668  0.84560\n",
       "4591  0.849574  0.846200  0.84660\n",
       "4592  0.847314  0.844096  0.84660\n",
       "4593  0.847200  0.844800  0.84660\n",
       "4594  0.828800  0.820260  0.82055\n",
       "\n",
       "[4595 rows x 3 columns]"
      ]
     },
     "execution_count": 25,
     "metadata": {},
     "output_type": "execute_result"
    }
   ],
   "source": [
    "list(models)[6].data"
   ]
  },
  {
   "cell_type": "code",
   "execution_count": 22,
   "id": "678b4565",
   "metadata": {},
   "outputs": [],
   "source": [
    "model = satori.ModelManager(\n",
    "            modelPath=f'../../models/EURUSDNew.jobLib',\n",
    "            chosenFeatures=[f'RawUSD'],\n",
    "            pinnedFeatures=[f'RawUSD'],\n",
    "            targetKey='USD',\n",
    "            **kwargs) \n",
    "        \n"
   ]
  },
  {
   "cell_type": "code",
   "execution_count": 24,
   "id": "d066f16b",
   "metadata": {},
   "outputs": [
    {
     "data": {
      "text/html": [
       "<div>\n",
       "<style scoped>\n",
       "    .dataframe tbody tr th:only-of-type {\n",
       "        vertical-align: middle;\n",
       "    }\n",
       "\n",
       "    .dataframe tbody tr th {\n",
       "        vertical-align: top;\n",
       "    }\n",
       "\n",
       "    .dataframe thead th {\n",
       "        text-align: right;\n",
       "    }\n",
       "</style>\n",
       "<table border=\"1\" class=\"dataframe\">\n",
       "  <thead>\n",
       "    <tr style=\"text-align: right;\">\n",
       "      <th></th>\n",
       "      <th>High</th>\n",
       "      <th>Low</th>\n",
       "      <th>Close</th>\n",
       "    </tr>\n",
       "  </thead>\n",
       "  <tbody>\n",
       "    <tr>\n",
       "      <th>0</th>\n",
       "      <td>0.837240</td>\n",
       "      <td>0.830560</td>\n",
       "      <td>0.83577</td>\n",
       "    </tr>\n",
       "    <tr>\n",
       "      <th>1</th>\n",
       "      <td>0.837100</td>\n",
       "      <td>0.825830</td>\n",
       "      <td>0.82720</td>\n",
       "    </tr>\n",
       "    <tr>\n",
       "      <th>2</th>\n",
       "      <td>0.828020</td>\n",
       "      <td>0.824400</td>\n",
       "      <td>0.82488</td>\n",
       "    </tr>\n",
       "    <tr>\n",
       "      <th>3</th>\n",
       "      <td>0.830290</td>\n",
       "      <td>0.823450</td>\n",
       "      <td>0.82775</td>\n",
       "    </tr>\n",
       "    <tr>\n",
       "      <th>4</th>\n",
       "      <td>0.828780</td>\n",
       "      <td>0.820280</td>\n",
       "      <td>0.82055</td>\n",
       "    </tr>\n",
       "    <tr>\n",
       "      <th>...</th>\n",
       "      <td>...</td>\n",
       "      <td>...</td>\n",
       "      <td>...</td>\n",
       "    </tr>\n",
       "    <tr>\n",
       "      <th>4590</th>\n",
       "      <td>0.846070</td>\n",
       "      <td>0.843668</td>\n",
       "      <td>0.84560</td>\n",
       "    </tr>\n",
       "    <tr>\n",
       "      <th>4591</th>\n",
       "      <td>0.849574</td>\n",
       "      <td>0.846200</td>\n",
       "      <td>0.84660</td>\n",
       "    </tr>\n",
       "    <tr>\n",
       "      <th>4592</th>\n",
       "      <td>0.847314</td>\n",
       "      <td>0.844096</td>\n",
       "      <td>0.84660</td>\n",
       "    </tr>\n",
       "    <tr>\n",
       "      <th>4593</th>\n",
       "      <td>0.847200</td>\n",
       "      <td>0.844800</td>\n",
       "      <td>0.84660</td>\n",
       "    </tr>\n",
       "    <tr>\n",
       "      <th>4594</th>\n",
       "      <td>0.828800</td>\n",
       "      <td>0.820260</td>\n",
       "      <td>0.82055</td>\n",
       "    </tr>\n",
       "  </tbody>\n",
       "</table>\n",
       "<p>4595 rows × 3 columns</p>\n",
       "</div>"
      ],
      "text/plain": [
       "          High       Low    Close\n",
       "0     0.837240  0.830560  0.83577\n",
       "1     0.837100  0.825830  0.82720\n",
       "2     0.828020  0.824400  0.82488\n",
       "3     0.830290  0.823450  0.82775\n",
       "4     0.828780  0.820280  0.82055\n",
       "...        ...       ...      ...\n",
       "4590  0.846070  0.843668  0.84560\n",
       "4591  0.849574  0.846200  0.84660\n",
       "4592  0.847314  0.844096  0.84660\n",
       "4593  0.847200  0.844800  0.84660\n",
       "4594  0.828800  0.820260  0.82055\n",
       "\n",
       "[4595 rows x 3 columns]"
      ]
     },
     "execution_count": 24,
     "metadata": {},
     "output_type": "execute_result"
    }
   ],
   "source": [
    "model.data"
   ]
  },
  {
   "cell_type": "code",
   "execution_count": 28,
   "id": "783ec1f8",
   "metadata": {},
   "outputs": [
    {
     "data": {
      "text/plain": [
       "['RawUSD']"
      ]
     },
     "execution_count": 28,
     "metadata": {},
     "output_type": "execute_result"
    }
   ],
   "source": [
    "model.chosenFeatures"
   ]
  },
  {
   "cell_type": "code",
   "execution_count": 37,
   "id": "3b51f663",
   "metadata": {},
   "outputs": [
    {
     "data": {
      "text/plain": [
       "'data.parquet'"
      ]
     },
     "execution_count": 37,
     "metadata": {},
     "output_type": "execute_result"
    }
   ],
   "source": [
    "model.dataPath"
   ]
  },
  {
   "cell_type": "code",
   "execution_count": 30,
   "id": "080e066f",
   "metadata": {},
   "outputs": [],
   "source": [
    "model.produceFeatureSet()"
   ]
  },
  {
   "cell_type": "code",
   "execution_count": 33,
   "id": "891e66ef",
   "metadata": {},
   "outputs": [],
   "source": [
    "model.features.get('RawUSD')"
   ]
  },
  {
   "cell_type": "code",
   "execution_count": 34,
   "id": "f93975c5",
   "metadata": {},
   "outputs": [
    {
     "ename": "KeyError",
     "evalue": "'USD'",
     "output_type": "error",
     "traceback": [
      "\u001b[1;31m---------------------------------------------------------------------------\u001b[0m",
      "\u001b[1;31mKeyError\u001b[0m                                  Traceback (most recent call last)",
      "\u001b[1;32mc:\\users\\jorda\\appdata\\local\\programs\\python\\python39\\lib\\site-packages\\pandas\\core\\indexes\\base.py\u001b[0m in \u001b[0;36mget_loc\u001b[1;34m(self, key, method, tolerance)\u001b[0m\n\u001b[0;32m   3360\u001b[0m             \u001b[1;32mtry\u001b[0m\u001b[1;33m:\u001b[0m\u001b[1;33m\u001b[0m\u001b[1;33m\u001b[0m\u001b[0m\n\u001b[1;32m-> 3361\u001b[1;33m                 \u001b[1;32mreturn\u001b[0m \u001b[0mself\u001b[0m\u001b[1;33m.\u001b[0m\u001b[0m_engine\u001b[0m\u001b[1;33m.\u001b[0m\u001b[0mget_loc\u001b[0m\u001b[1;33m(\u001b[0m\u001b[0mcasted_key\u001b[0m\u001b[1;33m)\u001b[0m\u001b[1;33m\u001b[0m\u001b[1;33m\u001b[0m\u001b[0m\n\u001b[0m\u001b[0;32m   3362\u001b[0m             \u001b[1;32mexcept\u001b[0m \u001b[0mKeyError\u001b[0m \u001b[1;32mas\u001b[0m \u001b[0merr\u001b[0m\u001b[1;33m:\u001b[0m\u001b[1;33m\u001b[0m\u001b[1;33m\u001b[0m\u001b[0m\n",
      "\u001b[1;32mc:\\users\\jorda\\appdata\\local\\programs\\python\\python39\\lib\\site-packages\\pandas\\_libs\\index.pyx\u001b[0m in \u001b[0;36mpandas._libs.index.IndexEngine.get_loc\u001b[1;34m()\u001b[0m\n",
      "\u001b[1;32mc:\\users\\jorda\\appdata\\local\\programs\\python\\python39\\lib\\site-packages\\pandas\\_libs\\index.pyx\u001b[0m in \u001b[0;36mpandas._libs.index.IndexEngine.get_loc\u001b[1;34m()\u001b[0m\n",
      "\u001b[1;32mpandas\\_libs\\hashtable_class_helper.pxi\u001b[0m in \u001b[0;36mpandas._libs.hashtable.PyObjectHashTable.get_item\u001b[1;34m()\u001b[0m\n",
      "\u001b[1;32mpandas\\_libs\\hashtable_class_helper.pxi\u001b[0m in \u001b[0;36mpandas._libs.hashtable.PyObjectHashTable.get_item\u001b[1;34m()\u001b[0m\n",
      "\u001b[1;31mKeyError\u001b[0m: 'USD'",
      "\nThe above exception was the direct cause of the following exception:\n",
      "\u001b[1;31mKeyError\u001b[0m                                  Traceback (most recent call last)",
      "\u001b[1;32m<ipython-input-34-fad54f99ee46>\u001b[0m in \u001b[0;36m<module>\u001b[1;34m\u001b[0m\n\u001b[1;32m----> 1\u001b[1;33m \u001b[0mmodel\u001b[0m\u001b[1;33m.\u001b[0m\u001b[0mbuildStable\u001b[0m\u001b[1;33m(\u001b[0m\u001b[1;33m)\u001b[0m\u001b[1;33m\u001b[0m\u001b[1;33m\u001b[0m\u001b[0m\n\u001b[0m",
      "\u001b[1;32mc:\\repos\\satori\\satori\\lib\\model.py\u001b[0m in \u001b[0;36mbuildStable\u001b[1;34m(self)\u001b[0m\n\u001b[0;32m    441\u001b[0m     \u001b[1;32mdef\u001b[0m \u001b[0mbuildStable\u001b[0m\u001b[1;33m(\u001b[0m\u001b[0mself\u001b[0m\u001b[1;33m)\u001b[0m\u001b[1;33m:\u001b[0m\u001b[1;33m\u001b[0m\u001b[1;33m\u001b[0m\u001b[0m\n\u001b[0;32m    442\u001b[0m         \u001b[0mself\u001b[0m\u001b[1;33m.\u001b[0m\u001b[0mget\u001b[0m\u001b[1;33m(\u001b[0m\u001b[1;33m)\u001b[0m\u001b[1;33m\u001b[0m\u001b[1;33m\u001b[0m\u001b[0m\n\u001b[1;32m--> 443\u001b[1;33m         \u001b[0mself\u001b[0m\u001b[1;33m.\u001b[0m\u001b[0mproduceTarget\u001b[0m\u001b[1;33m(\u001b[0m\u001b[1;33m)\u001b[0m\u001b[1;33m\u001b[0m\u001b[1;33m\u001b[0m\u001b[0m\n\u001b[0m\u001b[0;32m    444\u001b[0m         \u001b[0mself\u001b[0m\u001b[1;33m.\u001b[0m\u001b[0mproduceFeatureStructure\u001b[0m\u001b[1;33m(\u001b[0m\u001b[1;33m)\u001b[0m\u001b[1;33m\u001b[0m\u001b[1;33m\u001b[0m\u001b[0m\n\u001b[0;32m    445\u001b[0m         \u001b[0mself\u001b[0m\u001b[1;33m.\u001b[0m\u001b[0mproduceFeatureSet\u001b[0m\u001b[1;33m(\u001b[0m\u001b[1;33m)\u001b[0m\u001b[1;33m\u001b[0m\u001b[1;33m\u001b[0m\u001b[0m\n",
      "\u001b[1;32mc:\\repos\\satori\\satori\\lib\\model.py\u001b[0m in \u001b[0;36mproduceTarget\u001b[1;34m(self)\u001b[0m\n\u001b[0;32m    130\u001b[0m \u001b[1;33m\u001b[0m\u001b[0m\n\u001b[0;32m    131\u001b[0m     \u001b[1;32mdef\u001b[0m \u001b[0mproduceTarget\u001b[0m\u001b[1;33m(\u001b[0m\u001b[0mself\u001b[0m\u001b[1;33m)\u001b[0m\u001b[1;33m:\u001b[0m\u001b[1;33m\u001b[0m\u001b[1;33m\u001b[0m\u001b[0m\n\u001b[1;32m--> 132\u001b[1;33m         \u001b[0mseries\u001b[0m \u001b[1;33m=\u001b[0m \u001b[0mself\u001b[0m\u001b[1;33m.\u001b[0m\u001b[0mdata\u001b[0m\u001b[1;33m.\u001b[0m\u001b[0mloc\u001b[0m\u001b[1;33m[\u001b[0m\u001b[1;33m:\u001b[0m\u001b[1;33m,\u001b[0m \u001b[0mself\u001b[0m\u001b[1;33m.\u001b[0m\u001b[0mtargetKey\u001b[0m\u001b[1;33m]\u001b[0m\u001b[1;33m.\u001b[0m\u001b[0mshift\u001b[0m\u001b[1;33m(\u001b[0m\u001b[1;33m-\u001b[0m\u001b[1;36m1\u001b[0m\u001b[1;33m)\u001b[0m\u001b[1;33m\u001b[0m\u001b[1;33m\u001b[0m\u001b[0m\n\u001b[0m\u001b[0;32m    133\u001b[0m         \u001b[0mseries\u001b[0m\u001b[1;33m.\u001b[0m\u001b[0mname\u001b[0m \u001b[1;33m=\u001b[0m \u001b[0mModelManager\u001b[0m\u001b[1;33m.\u001b[0m\u001b[0mproduceTargetName\u001b[0m\u001b[1;33m(\u001b[0m\u001b[0mself\u001b[0m\u001b[1;33m.\u001b[0m\u001b[0mtargetKey\u001b[0m\u001b[1;33m)\u001b[0m\u001b[1;33m\u001b[0m\u001b[1;33m\u001b[0m\u001b[0m\n\u001b[0;32m    134\u001b[0m         \u001b[0mself\u001b[0m\u001b[1;33m.\u001b[0m\u001b[0mtarget\u001b[0m \u001b[1;33m=\u001b[0m \u001b[0mpd\u001b[0m\u001b[1;33m.\u001b[0m\u001b[0mDataFrame\u001b[0m\u001b[1;33m(\u001b[0m\u001b[0mseries\u001b[0m\u001b[1;33m)\u001b[0m\u001b[1;33m\u001b[0m\u001b[1;33m\u001b[0m\u001b[0m\n",
      "\u001b[1;32mc:\\users\\jorda\\appdata\\local\\programs\\python\\python39\\lib\\site-packages\\pandas\\core\\indexing.py\u001b[0m in \u001b[0;36m__getitem__\u001b[1;34m(self, key)\u001b[0m\n\u001b[0;32m    923\u001b[0m                 \u001b[1;32mwith\u001b[0m \u001b[0msuppress\u001b[0m\u001b[1;33m(\u001b[0m\u001b[0mKeyError\u001b[0m\u001b[1;33m,\u001b[0m \u001b[0mIndexError\u001b[0m\u001b[1;33m)\u001b[0m\u001b[1;33m:\u001b[0m\u001b[1;33m\u001b[0m\u001b[1;33m\u001b[0m\u001b[0m\n\u001b[0;32m    924\u001b[0m                     \u001b[1;32mreturn\u001b[0m \u001b[0mself\u001b[0m\u001b[1;33m.\u001b[0m\u001b[0mobj\u001b[0m\u001b[1;33m.\u001b[0m\u001b[0m_get_value\u001b[0m\u001b[1;33m(\u001b[0m\u001b[1;33m*\u001b[0m\u001b[0mkey\u001b[0m\u001b[1;33m,\u001b[0m \u001b[0mtakeable\u001b[0m\u001b[1;33m=\u001b[0m\u001b[0mself\u001b[0m\u001b[1;33m.\u001b[0m\u001b[0m_takeable\u001b[0m\u001b[1;33m)\u001b[0m\u001b[1;33m\u001b[0m\u001b[1;33m\u001b[0m\u001b[0m\n\u001b[1;32m--> 925\u001b[1;33m             \u001b[1;32mreturn\u001b[0m \u001b[0mself\u001b[0m\u001b[1;33m.\u001b[0m\u001b[0m_getitem_tuple\u001b[0m\u001b[1;33m(\u001b[0m\u001b[0mkey\u001b[0m\u001b[1;33m)\u001b[0m\u001b[1;33m\u001b[0m\u001b[1;33m\u001b[0m\u001b[0m\n\u001b[0m\u001b[0;32m    926\u001b[0m         \u001b[1;32melse\u001b[0m\u001b[1;33m:\u001b[0m\u001b[1;33m\u001b[0m\u001b[1;33m\u001b[0m\u001b[0m\n\u001b[0;32m    927\u001b[0m             \u001b[1;31m# we by definition only have the 0th axis\u001b[0m\u001b[1;33m\u001b[0m\u001b[1;33m\u001b[0m\u001b[1;33m\u001b[0m\u001b[0m\n",
      "\u001b[1;32mc:\\users\\jorda\\appdata\\local\\programs\\python\\python39\\lib\\site-packages\\pandas\\core\\indexing.py\u001b[0m in \u001b[0;36m_getitem_tuple\u001b[1;34m(self, tup)\u001b[0m\n\u001b[0;32m   1098\u001b[0m     \u001b[1;32mdef\u001b[0m \u001b[0m_getitem_tuple\u001b[0m\u001b[1;33m(\u001b[0m\u001b[0mself\u001b[0m\u001b[1;33m,\u001b[0m \u001b[0mtup\u001b[0m\u001b[1;33m:\u001b[0m \u001b[0mtuple\u001b[0m\u001b[1;33m)\u001b[0m\u001b[1;33m:\u001b[0m\u001b[1;33m\u001b[0m\u001b[1;33m\u001b[0m\u001b[0m\n\u001b[0;32m   1099\u001b[0m         \u001b[1;32mwith\u001b[0m \u001b[0msuppress\u001b[0m\u001b[1;33m(\u001b[0m\u001b[0mIndexingError\u001b[0m\u001b[1;33m)\u001b[0m\u001b[1;33m:\u001b[0m\u001b[1;33m\u001b[0m\u001b[1;33m\u001b[0m\u001b[0m\n\u001b[1;32m-> 1100\u001b[1;33m             \u001b[1;32mreturn\u001b[0m \u001b[0mself\u001b[0m\u001b[1;33m.\u001b[0m\u001b[0m_getitem_lowerdim\u001b[0m\u001b[1;33m(\u001b[0m\u001b[0mtup\u001b[0m\u001b[1;33m)\u001b[0m\u001b[1;33m\u001b[0m\u001b[1;33m\u001b[0m\u001b[0m\n\u001b[0m\u001b[0;32m   1101\u001b[0m \u001b[1;33m\u001b[0m\u001b[0m\n\u001b[0;32m   1102\u001b[0m         \u001b[1;31m# no multi-index, so validate all of the indexers\u001b[0m\u001b[1;33m\u001b[0m\u001b[1;33m\u001b[0m\u001b[1;33m\u001b[0m\u001b[0m\n",
      "\u001b[1;32mc:\\users\\jorda\\appdata\\local\\programs\\python\\python39\\lib\\site-packages\\pandas\\core\\indexing.py\u001b[0m in \u001b[0;36m_getitem_lowerdim\u001b[1;34m(self, tup)\u001b[0m\n\u001b[0;32m    836\u001b[0m                 \u001b[1;31m# We don't need to check for tuples here because those are\u001b[0m\u001b[1;33m\u001b[0m\u001b[1;33m\u001b[0m\u001b[1;33m\u001b[0m\u001b[0m\n\u001b[0;32m    837\u001b[0m                 \u001b[1;31m#  caught by the _is_nested_tuple_indexer check above.\u001b[0m\u001b[1;33m\u001b[0m\u001b[1;33m\u001b[0m\u001b[1;33m\u001b[0m\u001b[0m\n\u001b[1;32m--> 838\u001b[1;33m                 \u001b[0msection\u001b[0m \u001b[1;33m=\u001b[0m \u001b[0mself\u001b[0m\u001b[1;33m.\u001b[0m\u001b[0m_getitem_axis\u001b[0m\u001b[1;33m(\u001b[0m\u001b[0mkey\u001b[0m\u001b[1;33m,\u001b[0m \u001b[0maxis\u001b[0m\u001b[1;33m=\u001b[0m\u001b[0mi\u001b[0m\u001b[1;33m)\u001b[0m\u001b[1;33m\u001b[0m\u001b[1;33m\u001b[0m\u001b[0m\n\u001b[0m\u001b[0;32m    839\u001b[0m \u001b[1;33m\u001b[0m\u001b[0m\n\u001b[0;32m    840\u001b[0m                 \u001b[1;31m# We should never have a scalar section here, because\u001b[0m\u001b[1;33m\u001b[0m\u001b[1;33m\u001b[0m\u001b[1;33m\u001b[0m\u001b[0m\n",
      "\u001b[1;32mc:\\users\\jorda\\appdata\\local\\programs\\python\\python39\\lib\\site-packages\\pandas\\core\\indexing.py\u001b[0m in \u001b[0;36m_getitem_axis\u001b[1;34m(self, key, axis)\u001b[0m\n\u001b[0;32m   1162\u001b[0m         \u001b[1;31m# fall thru to straight lookup\u001b[0m\u001b[1;33m\u001b[0m\u001b[1;33m\u001b[0m\u001b[1;33m\u001b[0m\u001b[0m\n\u001b[0;32m   1163\u001b[0m         \u001b[0mself\u001b[0m\u001b[1;33m.\u001b[0m\u001b[0m_validate_key\u001b[0m\u001b[1;33m(\u001b[0m\u001b[0mkey\u001b[0m\u001b[1;33m,\u001b[0m \u001b[0maxis\u001b[0m\u001b[1;33m)\u001b[0m\u001b[1;33m\u001b[0m\u001b[1;33m\u001b[0m\u001b[0m\n\u001b[1;32m-> 1164\u001b[1;33m         \u001b[1;32mreturn\u001b[0m \u001b[0mself\u001b[0m\u001b[1;33m.\u001b[0m\u001b[0m_get_label\u001b[0m\u001b[1;33m(\u001b[0m\u001b[0mkey\u001b[0m\u001b[1;33m,\u001b[0m \u001b[0maxis\u001b[0m\u001b[1;33m=\u001b[0m\u001b[0maxis\u001b[0m\u001b[1;33m)\u001b[0m\u001b[1;33m\u001b[0m\u001b[1;33m\u001b[0m\u001b[0m\n\u001b[0m\u001b[0;32m   1165\u001b[0m \u001b[1;33m\u001b[0m\u001b[0m\n\u001b[0;32m   1166\u001b[0m     \u001b[1;32mdef\u001b[0m \u001b[0m_get_slice_axis\u001b[0m\u001b[1;33m(\u001b[0m\u001b[0mself\u001b[0m\u001b[1;33m,\u001b[0m \u001b[0mslice_obj\u001b[0m\u001b[1;33m:\u001b[0m \u001b[0mslice\u001b[0m\u001b[1;33m,\u001b[0m \u001b[0maxis\u001b[0m\u001b[1;33m:\u001b[0m \u001b[0mint\u001b[0m\u001b[1;33m)\u001b[0m\u001b[1;33m:\u001b[0m\u001b[1;33m\u001b[0m\u001b[1;33m\u001b[0m\u001b[0m\n",
      "\u001b[1;32mc:\\users\\jorda\\appdata\\local\\programs\\python\\python39\\lib\\site-packages\\pandas\\core\\indexing.py\u001b[0m in \u001b[0;36m_get_label\u001b[1;34m(self, label, axis)\u001b[0m\n\u001b[0;32m   1111\u001b[0m     \u001b[1;32mdef\u001b[0m \u001b[0m_get_label\u001b[0m\u001b[1;33m(\u001b[0m\u001b[0mself\u001b[0m\u001b[1;33m,\u001b[0m \u001b[0mlabel\u001b[0m\u001b[1;33m,\u001b[0m \u001b[0maxis\u001b[0m\u001b[1;33m:\u001b[0m \u001b[0mint\u001b[0m\u001b[1;33m)\u001b[0m\u001b[1;33m:\u001b[0m\u001b[1;33m\u001b[0m\u001b[1;33m\u001b[0m\u001b[0m\n\u001b[0;32m   1112\u001b[0m         \u001b[1;31m# GH#5667 this will fail if the label is not present in the axis.\u001b[0m\u001b[1;33m\u001b[0m\u001b[1;33m\u001b[0m\u001b[1;33m\u001b[0m\u001b[0m\n\u001b[1;32m-> 1113\u001b[1;33m         \u001b[1;32mreturn\u001b[0m \u001b[0mself\u001b[0m\u001b[1;33m.\u001b[0m\u001b[0mobj\u001b[0m\u001b[1;33m.\u001b[0m\u001b[0mxs\u001b[0m\u001b[1;33m(\u001b[0m\u001b[0mlabel\u001b[0m\u001b[1;33m,\u001b[0m \u001b[0maxis\u001b[0m\u001b[1;33m=\u001b[0m\u001b[0maxis\u001b[0m\u001b[1;33m)\u001b[0m\u001b[1;33m\u001b[0m\u001b[1;33m\u001b[0m\u001b[0m\n\u001b[0m\u001b[0;32m   1114\u001b[0m \u001b[1;33m\u001b[0m\u001b[0m\n\u001b[0;32m   1115\u001b[0m     \u001b[1;32mdef\u001b[0m \u001b[0m_handle_lowerdim_multi_index_axis0\u001b[0m\u001b[1;33m(\u001b[0m\u001b[0mself\u001b[0m\u001b[1;33m,\u001b[0m \u001b[0mtup\u001b[0m\u001b[1;33m:\u001b[0m \u001b[0mtuple\u001b[0m\u001b[1;33m)\u001b[0m\u001b[1;33m:\u001b[0m\u001b[1;33m\u001b[0m\u001b[1;33m\u001b[0m\u001b[0m\n",
      "\u001b[1;32mc:\\users\\jorda\\appdata\\local\\programs\\python\\python39\\lib\\site-packages\\pandas\\core\\generic.py\u001b[0m in \u001b[0;36mxs\u001b[1;34m(self, key, axis, level, drop_level)\u001b[0m\n\u001b[0;32m   3759\u001b[0m         \u001b[1;32mif\u001b[0m \u001b[0maxis\u001b[0m \u001b[1;33m==\u001b[0m \u001b[1;36m1\u001b[0m\u001b[1;33m:\u001b[0m\u001b[1;33m\u001b[0m\u001b[1;33m\u001b[0m\u001b[0m\n\u001b[0;32m   3760\u001b[0m             \u001b[1;32mif\u001b[0m \u001b[0mdrop_level\u001b[0m\u001b[1;33m:\u001b[0m\u001b[1;33m\u001b[0m\u001b[1;33m\u001b[0m\u001b[0m\n\u001b[1;32m-> 3761\u001b[1;33m                 \u001b[1;32mreturn\u001b[0m \u001b[0mself\u001b[0m\u001b[1;33m[\u001b[0m\u001b[0mkey\u001b[0m\u001b[1;33m]\u001b[0m\u001b[1;33m\u001b[0m\u001b[1;33m\u001b[0m\u001b[0m\n\u001b[0m\u001b[0;32m   3762\u001b[0m             \u001b[0mindex\u001b[0m \u001b[1;33m=\u001b[0m \u001b[0mself\u001b[0m\u001b[1;33m.\u001b[0m\u001b[0mcolumns\u001b[0m\u001b[1;33m\u001b[0m\u001b[1;33m\u001b[0m\u001b[0m\n\u001b[0;32m   3763\u001b[0m         \u001b[1;32melse\u001b[0m\u001b[1;33m:\u001b[0m\u001b[1;33m\u001b[0m\u001b[1;33m\u001b[0m\u001b[0m\n",
      "\u001b[1;32mc:\\users\\jorda\\appdata\\local\\programs\\python\\python39\\lib\\site-packages\\pandas\\core\\frame.py\u001b[0m in \u001b[0;36m__getitem__\u001b[1;34m(self, key)\u001b[0m\n\u001b[0;32m   3456\u001b[0m             \u001b[1;32mif\u001b[0m \u001b[0mself\u001b[0m\u001b[1;33m.\u001b[0m\u001b[0mcolumns\u001b[0m\u001b[1;33m.\u001b[0m\u001b[0mnlevels\u001b[0m \u001b[1;33m>\u001b[0m \u001b[1;36m1\u001b[0m\u001b[1;33m:\u001b[0m\u001b[1;33m\u001b[0m\u001b[1;33m\u001b[0m\u001b[0m\n\u001b[0;32m   3457\u001b[0m                 \u001b[1;32mreturn\u001b[0m \u001b[0mself\u001b[0m\u001b[1;33m.\u001b[0m\u001b[0m_getitem_multilevel\u001b[0m\u001b[1;33m(\u001b[0m\u001b[0mkey\u001b[0m\u001b[1;33m)\u001b[0m\u001b[1;33m\u001b[0m\u001b[1;33m\u001b[0m\u001b[0m\n\u001b[1;32m-> 3458\u001b[1;33m             \u001b[0mindexer\u001b[0m \u001b[1;33m=\u001b[0m \u001b[0mself\u001b[0m\u001b[1;33m.\u001b[0m\u001b[0mcolumns\u001b[0m\u001b[1;33m.\u001b[0m\u001b[0mget_loc\u001b[0m\u001b[1;33m(\u001b[0m\u001b[0mkey\u001b[0m\u001b[1;33m)\u001b[0m\u001b[1;33m\u001b[0m\u001b[1;33m\u001b[0m\u001b[0m\n\u001b[0m\u001b[0;32m   3459\u001b[0m             \u001b[1;32mif\u001b[0m \u001b[0mis_integer\u001b[0m\u001b[1;33m(\u001b[0m\u001b[0mindexer\u001b[0m\u001b[1;33m)\u001b[0m\u001b[1;33m:\u001b[0m\u001b[1;33m\u001b[0m\u001b[1;33m\u001b[0m\u001b[0m\n\u001b[0;32m   3460\u001b[0m                 \u001b[0mindexer\u001b[0m \u001b[1;33m=\u001b[0m \u001b[1;33m[\u001b[0m\u001b[0mindexer\u001b[0m\u001b[1;33m]\u001b[0m\u001b[1;33m\u001b[0m\u001b[1;33m\u001b[0m\u001b[0m\n",
      "\u001b[1;32mc:\\users\\jorda\\appdata\\local\\programs\\python\\python39\\lib\\site-packages\\pandas\\core\\indexes\\base.py\u001b[0m in \u001b[0;36mget_loc\u001b[1;34m(self, key, method, tolerance)\u001b[0m\n\u001b[0;32m   3361\u001b[0m                 \u001b[1;32mreturn\u001b[0m \u001b[0mself\u001b[0m\u001b[1;33m.\u001b[0m\u001b[0m_engine\u001b[0m\u001b[1;33m.\u001b[0m\u001b[0mget_loc\u001b[0m\u001b[1;33m(\u001b[0m\u001b[0mcasted_key\u001b[0m\u001b[1;33m)\u001b[0m\u001b[1;33m\u001b[0m\u001b[1;33m\u001b[0m\u001b[0m\n\u001b[0;32m   3362\u001b[0m             \u001b[1;32mexcept\u001b[0m \u001b[0mKeyError\u001b[0m \u001b[1;32mas\u001b[0m \u001b[0merr\u001b[0m\u001b[1;33m:\u001b[0m\u001b[1;33m\u001b[0m\u001b[1;33m\u001b[0m\u001b[0m\n\u001b[1;32m-> 3363\u001b[1;33m                 \u001b[1;32mraise\u001b[0m \u001b[0mKeyError\u001b[0m\u001b[1;33m(\u001b[0m\u001b[0mkey\u001b[0m\u001b[1;33m)\u001b[0m \u001b[1;32mfrom\u001b[0m \u001b[0merr\u001b[0m\u001b[1;33m\u001b[0m\u001b[1;33m\u001b[0m\u001b[0m\n\u001b[0m\u001b[0;32m   3364\u001b[0m \u001b[1;33m\u001b[0m\u001b[0m\n\u001b[0;32m   3365\u001b[0m         \u001b[1;32mif\u001b[0m \u001b[0mis_scalar\u001b[0m\u001b[1;33m(\u001b[0m\u001b[0mkey\u001b[0m\u001b[1;33m)\u001b[0m \u001b[1;32mand\u001b[0m \u001b[0misna\u001b[0m\u001b[1;33m(\u001b[0m\u001b[0mkey\u001b[0m\u001b[1;33m)\u001b[0m \u001b[1;32mand\u001b[0m \u001b[1;32mnot\u001b[0m \u001b[0mself\u001b[0m\u001b[1;33m.\u001b[0m\u001b[0mhasnans\u001b[0m\u001b[1;33m:\u001b[0m\u001b[1;33m\u001b[0m\u001b[1;33m\u001b[0m\u001b[0m\n",
      "\u001b[1;31mKeyError\u001b[0m: 'USD'"
     ]
    }
   ],
   "source": [
    "model.buildStable()"
   ]
  },
  {
   "cell_type": "code",
   "execution_count": 36,
   "id": "27b44674",
   "metadata": {},
   "outputs": [
    {
     "data": {
      "text/html": [
       "<div>\n",
       "<style scoped>\n",
       "    .dataframe tbody tr th:only-of-type {\n",
       "        vertical-align: middle;\n",
       "    }\n",
       "\n",
       "    .dataframe tbody tr th {\n",
       "        vertical-align: top;\n",
       "    }\n",
       "\n",
       "    .dataframe thead th {\n",
       "        text-align: right;\n",
       "    }\n",
       "</style>\n",
       "<table border=\"1\" class=\"dataframe\">\n",
       "  <thead>\n",
       "    <tr style=\"text-align: right;\">\n",
       "      <th></th>\n",
       "      <th>High</th>\n",
       "      <th>Low</th>\n",
       "      <th>Close</th>\n",
       "    </tr>\n",
       "  </thead>\n",
       "  <tbody>\n",
       "    <tr>\n",
       "      <th>0</th>\n",
       "      <td>0.837240</td>\n",
       "      <td>0.830560</td>\n",
       "      <td>0.83577</td>\n",
       "    </tr>\n",
       "    <tr>\n",
       "      <th>1</th>\n",
       "      <td>0.837100</td>\n",
       "      <td>0.825830</td>\n",
       "      <td>0.82720</td>\n",
       "    </tr>\n",
       "    <tr>\n",
       "      <th>2</th>\n",
       "      <td>0.828020</td>\n",
       "      <td>0.824400</td>\n",
       "      <td>0.82488</td>\n",
       "    </tr>\n",
       "    <tr>\n",
       "      <th>3</th>\n",
       "      <td>0.830290</td>\n",
       "      <td>0.823450</td>\n",
       "      <td>0.82775</td>\n",
       "    </tr>\n",
       "    <tr>\n",
       "      <th>4</th>\n",
       "      <td>0.828780</td>\n",
       "      <td>0.820280</td>\n",
       "      <td>0.82055</td>\n",
       "    </tr>\n",
       "    <tr>\n",
       "      <th>...</th>\n",
       "      <td>...</td>\n",
       "      <td>...</td>\n",
       "      <td>...</td>\n",
       "    </tr>\n",
       "    <tr>\n",
       "      <th>4590</th>\n",
       "      <td>0.846070</td>\n",
       "      <td>0.843668</td>\n",
       "      <td>0.84560</td>\n",
       "    </tr>\n",
       "    <tr>\n",
       "      <th>4591</th>\n",
       "      <td>0.849574</td>\n",
       "      <td>0.846200</td>\n",
       "      <td>0.84660</td>\n",
       "    </tr>\n",
       "    <tr>\n",
       "      <th>4592</th>\n",
       "      <td>0.847314</td>\n",
       "      <td>0.844096</td>\n",
       "      <td>0.84660</td>\n",
       "    </tr>\n",
       "    <tr>\n",
       "      <th>4593</th>\n",
       "      <td>0.847200</td>\n",
       "      <td>0.844800</td>\n",
       "      <td>0.84660</td>\n",
       "    </tr>\n",
       "    <tr>\n",
       "      <th>4594</th>\n",
       "      <td>0.828800</td>\n",
       "      <td>0.820260</td>\n",
       "      <td>0.82055</td>\n",
       "    </tr>\n",
       "  </tbody>\n",
       "</table>\n",
       "<p>4595 rows × 3 columns</p>\n",
       "</div>"
      ],
      "text/plain": [
       "          High       Low    Close\n",
       "0     0.837240  0.830560  0.83577\n",
       "1     0.837100  0.825830  0.82720\n",
       "2     0.828020  0.824400  0.82488\n",
       "3     0.830290  0.823450  0.82775\n",
       "4     0.828780  0.820280  0.82055\n",
       "...        ...       ...      ...\n",
       "4590  0.846070  0.843668  0.84560\n",
       "4591  0.849574  0.846200  0.84660\n",
       "4592  0.847314  0.844096  0.84660\n",
       "4593  0.847200  0.844800  0.84660\n",
       "4594  0.828800  0.820260  0.82055\n",
       "\n",
       "[4595 rows x 3 columns]"
      ]
     },
     "execution_count": 36,
     "metadata": {},
     "output_type": "execute_result"
    }
   ],
   "source": [
    "model.data"
   ]
  },
  {
   "cell_type": "code",
   "execution_count": 74,
   "id": "57900619",
   "metadata": {},
   "outputs": [
    {
     "data": {
      "text/html": [
       "<div>\n",
       "<style scoped>\n",
       "    .dataframe tbody tr th:only-of-type {\n",
       "        vertical-align: middle;\n",
       "    }\n",
       "\n",
       "    .dataframe tbody tr th {\n",
       "        vertical-align: top;\n",
       "    }\n",
       "\n",
       "    .dataframe thead th {\n",
       "        text-align: right;\n",
       "    }\n",
       "</style>\n",
       "<table border=\"1\" class=\"dataframe\">\n",
       "  <thead>\n",
       "    <tr style=\"text-align: right;\">\n",
       "      <th></th>\n",
       "      <th>RawHigh</th>\n",
       "    </tr>\n",
       "  </thead>\n",
       "  <tbody>\n",
       "    <tr>\n",
       "      <th>0</th>\n",
       "      <td>0.837100</td>\n",
       "    </tr>\n",
       "    <tr>\n",
       "      <th>1</th>\n",
       "      <td>0.828020</td>\n",
       "    </tr>\n",
       "    <tr>\n",
       "      <th>2</th>\n",
       "      <td>0.830290</td>\n",
       "    </tr>\n",
       "    <tr>\n",
       "      <th>3</th>\n",
       "      <td>0.828780</td>\n",
       "    </tr>\n",
       "    <tr>\n",
       "      <th>4</th>\n",
       "      <td>0.822770</td>\n",
       "    </tr>\n",
       "    <tr>\n",
       "      <th>...</th>\n",
       "      <td>...</td>\n",
       "    </tr>\n",
       "    <tr>\n",
       "      <th>4590</th>\n",
       "      <td>0.849574</td>\n",
       "    </tr>\n",
       "    <tr>\n",
       "      <th>4591</th>\n",
       "      <td>0.847314</td>\n",
       "    </tr>\n",
       "    <tr>\n",
       "      <th>4592</th>\n",
       "      <td>0.847200</td>\n",
       "    </tr>\n",
       "    <tr>\n",
       "      <th>4593</th>\n",
       "      <td>0.828800</td>\n",
       "    </tr>\n",
       "    <tr>\n",
       "      <th>4594</th>\n",
       "      <td>NaN</td>\n",
       "    </tr>\n",
       "  </tbody>\n",
       "</table>\n",
       "<p>4595 rows × 1 columns</p>\n",
       "</div>"
      ],
      "text/plain": [
       "       RawHigh\n",
       "0     0.837100\n",
       "1     0.828020\n",
       "2     0.830290\n",
       "3     0.828780\n",
       "4     0.822770\n",
       "...        ...\n",
       "4590  0.849574\n",
       "4591  0.847314\n",
       "4592  0.847200\n",
       "4593  0.828800\n",
       "4594       NaN\n",
       "\n",
       "[4595 rows x 1 columns]"
      ]
     },
     "execution_count": 74,
     "metadata": {},
     "output_type": "execute_result"
    }
   ],
   "source": [
    "# target\n",
    "target = pd.DataFrame(model.data.loc[:, 'High'].shift(-1))\n",
    "target"
   ]
  },
  {
   "cell_type": "code",
   "execution_count": 55,
   "id": "654745e2",
   "metadata": {},
   "outputs": [
    {
     "data": {
      "text/plain": [
       "[0       0.837240\n",
       " 1       0.837100\n",
       " 2       0.828020\n",
       " 3       0.830290\n",
       " 4       0.828780\n",
       "           ...   \n",
       " 4590    0.846070\n",
       " 4591    0.849574\n",
       " 4592    0.847314\n",
       " 4593    0.847200\n",
       " 4594    0.828800\n",
       " Name: RawHigh, Length: 4595, dtype: float64]"
      ]
     },
     "execution_count": 55,
     "metadata": {},
     "output_type": "execute_result"
    }
   ],
   "source": [
    "# feature\n",
    "features = [model.features.get('RawHigh')(model.data)]\n",
    "features"
   ]
  },
  {
   "cell_type": "code",
   "execution_count": 56,
   "id": "3ef8d1a7",
   "metadata": {},
   "outputs": [
    {
     "data": {
      "text/html": [
       "<div>\n",
       "<style scoped>\n",
       "    .dataframe tbody tr th:only-of-type {\n",
       "        vertical-align: middle;\n",
       "    }\n",
       "\n",
       "    .dataframe tbody tr th {\n",
       "        vertical-align: top;\n",
       "    }\n",
       "\n",
       "    .dataframe thead th {\n",
       "        text-align: right;\n",
       "    }\n",
       "</style>\n",
       "<table border=\"1\" class=\"dataframe\">\n",
       "  <thead>\n",
       "    <tr style=\"text-align: right;\">\n",
       "      <th></th>\n",
       "      <th>RawHigh</th>\n",
       "    </tr>\n",
       "  </thead>\n",
       "  <tbody>\n",
       "    <tr>\n",
       "      <th>0</th>\n",
       "      <td>0.837240</td>\n",
       "    </tr>\n",
       "    <tr>\n",
       "      <th>1</th>\n",
       "      <td>0.837100</td>\n",
       "    </tr>\n",
       "    <tr>\n",
       "      <th>2</th>\n",
       "      <td>0.828020</td>\n",
       "    </tr>\n",
       "    <tr>\n",
       "      <th>3</th>\n",
       "      <td>0.830290</td>\n",
       "    </tr>\n",
       "    <tr>\n",
       "      <th>4</th>\n",
       "      <td>0.828780</td>\n",
       "    </tr>\n",
       "    <tr>\n",
       "      <th>...</th>\n",
       "      <td>...</td>\n",
       "    </tr>\n",
       "    <tr>\n",
       "      <th>4590</th>\n",
       "      <td>0.846070</td>\n",
       "    </tr>\n",
       "    <tr>\n",
       "      <th>4591</th>\n",
       "      <td>0.849574</td>\n",
       "    </tr>\n",
       "    <tr>\n",
       "      <th>4592</th>\n",
       "      <td>0.847314</td>\n",
       "    </tr>\n",
       "    <tr>\n",
       "      <th>4593</th>\n",
       "      <td>0.847200</td>\n",
       "    </tr>\n",
       "    <tr>\n",
       "      <th>4594</th>\n",
       "      <td>0.828800</td>\n",
       "    </tr>\n",
       "  </tbody>\n",
       "</table>\n",
       "<p>4595 rows × 1 columns</p>\n",
       "</div>"
      ],
      "text/plain": [
       "       RawHigh\n",
       "0     0.837240\n",
       "1     0.837100\n",
       "2     0.828020\n",
       "3     0.830290\n",
       "4     0.828780\n",
       "...        ...\n",
       "4590  0.846070\n",
       "4591  0.849574\n",
       "4592  0.847314\n",
       "4593  0.847200\n",
       "4594  0.828800\n",
       "\n",
       "[4595 rows x 1 columns]"
      ]
     },
     "execution_count": 56,
     "metadata": {},
     "output_type": "execute_result"
    }
   ],
   "source": [
    "featureSet = pd.concat(features, axis = 1, keys = ['RawHigh'])\n",
    "featureSet"
   ]
  },
  {
   "cell_type": "code",
   "execution_count": 57,
   "id": "10454d90",
   "metadata": {},
   "outputs": [
    {
     "data": {
      "text/html": [
       "<div>\n",
       "<style scoped>\n",
       "    .dataframe tbody tr th:only-of-type {\n",
       "        vertical-align: middle;\n",
       "    }\n",
       "\n",
       "    .dataframe tbody tr th {\n",
       "        vertical-align: top;\n",
       "    }\n",
       "\n",
       "    .dataframe thead th {\n",
       "        text-align: right;\n",
       "    }\n",
       "</style>\n",
       "<table border=\"1\" class=\"dataframe\">\n",
       "  <thead>\n",
       "    <tr style=\"text-align: right;\">\n",
       "      <th></th>\n",
       "      <th>RawHigh</th>\n",
       "    </tr>\n",
       "  </thead>\n",
       "  <tbody>\n",
       "    <tr>\n",
       "      <th>4594</th>\n",
       "      <td>0.8288</td>\n",
       "    </tr>\n",
       "  </tbody>\n",
       "</table>\n",
       "</div>"
      ],
      "text/plain": [
       "      RawHigh\n",
       "4594   0.8288"
      ]
     },
     "execution_count": 57,
     "metadata": {},
     "output_type": "execute_result"
    }
   ],
   "source": [
    "# predictable\n",
    "current = pd.DataFrame(featureSet.iloc[-1, :]).T.dropna(axis=1)\n",
    "current"
   ]
  },
  {
   "cell_type": "code",
   "execution_count": 65,
   "id": "516b4d2c",
   "metadata": {},
   "outputs": [],
   "source": [
    "df = featureSet.copy()"
   ]
  },
  {
   "cell_type": "code",
   "execution_count": 66,
   "id": "4c655c24",
   "metadata": {},
   "outputs": [
    {
     "data": {
      "text/html": [
       "<div>\n",
       "<style scoped>\n",
       "    .dataframe tbody tr th:only-of-type {\n",
       "        vertical-align: middle;\n",
       "    }\n",
       "\n",
       "    .dataframe tbody tr th {\n",
       "        vertical-align: top;\n",
       "    }\n",
       "\n",
       "    .dataframe thead th {\n",
       "        text-align: right;\n",
       "    }\n",
       "</style>\n",
       "<table border=\"1\" class=\"dataframe\">\n",
       "  <thead>\n",
       "    <tr style=\"text-align: right;\">\n",
       "      <th></th>\n",
       "      <th>RawHigh</th>\n",
       "    </tr>\n",
       "  </thead>\n",
       "  <tbody>\n",
       "    <tr>\n",
       "      <th>0</th>\n",
       "      <td>0.837240</td>\n",
       "    </tr>\n",
       "    <tr>\n",
       "      <th>1</th>\n",
       "      <td>0.837100</td>\n",
       "    </tr>\n",
       "    <tr>\n",
       "      <th>2</th>\n",
       "      <td>0.828020</td>\n",
       "    </tr>\n",
       "    <tr>\n",
       "      <th>3</th>\n",
       "      <td>0.830290</td>\n",
       "    </tr>\n",
       "    <tr>\n",
       "      <th>4</th>\n",
       "      <td>0.828780</td>\n",
       "    </tr>\n",
       "    <tr>\n",
       "      <th>...</th>\n",
       "      <td>...</td>\n",
       "    </tr>\n",
       "    <tr>\n",
       "      <th>4589</th>\n",
       "      <td>0.847020</td>\n",
       "    </tr>\n",
       "    <tr>\n",
       "      <th>4590</th>\n",
       "      <td>0.846070</td>\n",
       "    </tr>\n",
       "    <tr>\n",
       "      <th>4591</th>\n",
       "      <td>0.849574</td>\n",
       "    </tr>\n",
       "    <tr>\n",
       "      <th>4592</th>\n",
       "      <td>0.847314</td>\n",
       "    </tr>\n",
       "    <tr>\n",
       "      <th>4593</th>\n",
       "      <td>0.847200</td>\n",
       "    </tr>\n",
       "  </tbody>\n",
       "</table>\n",
       "<p>4594 rows × 1 columns</p>\n",
       "</div>"
      ],
      "text/plain": [
       "       RawHigh\n",
       "0     0.837240\n",
       "1     0.837100\n",
       "2     0.828020\n",
       "3     0.830290\n",
       "4     0.828780\n",
       "...        ...\n",
       "4589  0.847020\n",
       "4590  0.846070\n",
       "4591  0.849574\n",
       "4592  0.847314\n",
       "4593  0.847200\n",
       "\n",
       "[4594 rows x 1 columns]"
      ]
     },
     "execution_count": 66,
     "metadata": {},
     "output_type": "execute_result"
    }
   ],
   "source": [
    "df = df.iloc[0:-1, :].replace([np.inf, -np.inf], np.nan).reset_index(drop=True)\n",
    "df"
   ]
  },
  {
   "cell_type": "code",
   "execution_count": 306,
   "id": "f34cc159",
   "metadata": {},
   "outputs": [],
   "source": [
    "data = df\n",
    "labels = target.iloc[0:df.shape[0], :]"
   ]
  },
  {
   "cell_type": "code",
   "execution_count": 296,
   "id": "87971b48",
   "metadata": {},
   "outputs": [],
   "source": [
    "trainX, testX, trainY, testY = train_test_split(\n",
    "    df, target.iloc[0:df.shape[0], :], test_size=.5, shuffle=False)"
   ]
  },
  {
   "cell_type": "code",
   "execution_count": 297,
   "id": "2e275302",
   "metadata": {},
   "outputs": [
    {
     "data": {
      "text/html": [
       "<div>\n",
       "<style scoped>\n",
       "    .dataframe tbody tr th:only-of-type {\n",
       "        vertical-align: middle;\n",
       "    }\n",
       "\n",
       "    .dataframe tbody tr th {\n",
       "        vertical-align: top;\n",
       "    }\n",
       "\n",
       "    .dataframe thead tr th {\n",
       "        text-align: left;\n",
       "    }\n",
       "</style>\n",
       "<table border=\"1\" class=\"dataframe\">\n",
       "  <thead>\n",
       "    <tr>\n",
       "      <th></th>\n",
       "      <th>trainX</th>\n",
       "      <th>trainY</th>\n",
       "    </tr>\n",
       "    <tr>\n",
       "      <th></th>\n",
       "      <th>RawHigh</th>\n",
       "      <th>RawHigh</th>\n",
       "    </tr>\n",
       "  </thead>\n",
       "  <tbody>\n",
       "    <tr>\n",
       "      <th>0</th>\n",
       "      <td>0.837240</td>\n",
       "      <td>0.837100</td>\n",
       "    </tr>\n",
       "    <tr>\n",
       "      <th>1</th>\n",
       "      <td>0.837100</td>\n",
       "      <td>0.828020</td>\n",
       "    </tr>\n",
       "    <tr>\n",
       "      <th>2</th>\n",
       "      <td>0.828020</td>\n",
       "      <td>0.830290</td>\n",
       "    </tr>\n",
       "    <tr>\n",
       "      <th>3</th>\n",
       "      <td>0.830290</td>\n",
       "      <td>0.828780</td>\n",
       "    </tr>\n",
       "    <tr>\n",
       "      <th>4</th>\n",
       "      <td>0.828780</td>\n",
       "      <td>0.822770</td>\n",
       "    </tr>\n",
       "    <tr>\n",
       "      <th>...</th>\n",
       "      <td>...</td>\n",
       "      <td>...</td>\n",
       "    </tr>\n",
       "    <tr>\n",
       "      <th>2292</th>\n",
       "      <td>0.772000</td>\n",
       "      <td>0.764100</td>\n",
       "    </tr>\n",
       "    <tr>\n",
       "      <th>2293</th>\n",
       "      <td>0.764100</td>\n",
       "      <td>0.764374</td>\n",
       "    </tr>\n",
       "    <tr>\n",
       "      <th>2294</th>\n",
       "      <td>0.764374</td>\n",
       "      <td>0.768280</td>\n",
       "    </tr>\n",
       "    <tr>\n",
       "      <th>2295</th>\n",
       "      <td>0.768280</td>\n",
       "      <td>0.767900</td>\n",
       "    </tr>\n",
       "    <tr>\n",
       "      <th>2296</th>\n",
       "      <td>0.767900</td>\n",
       "      <td>0.771992</td>\n",
       "    </tr>\n",
       "  </tbody>\n",
       "</table>\n",
       "<p>2297 rows × 2 columns</p>\n",
       "</div>"
      ],
      "text/plain": [
       "        trainX    trainY\n",
       "       RawHigh   RawHigh\n",
       "0     0.837240  0.837100\n",
       "1     0.837100  0.828020\n",
       "2     0.828020  0.830290\n",
       "3     0.830290  0.828780\n",
       "4     0.828780  0.822770\n",
       "...        ...       ...\n",
       "2292  0.772000  0.764100\n",
       "2293  0.764100  0.764374\n",
       "2294  0.764374  0.768280\n",
       "2295  0.768280  0.767900\n",
       "2296  0.767900  0.771992\n",
       "\n",
       "[2297 rows x 2 columns]"
      ]
     },
     "execution_count": 297,
     "metadata": {},
     "output_type": "execute_result"
    }
   ],
   "source": [
    "pd.concat([trainX, trainY], axis=1, keys=['trainX', 'trainY'])"
   ]
  },
  {
   "cell_type": "code",
   "execution_count": 298,
   "id": "38f0ea35",
   "metadata": {},
   "outputs": [
    {
     "data": {
      "text/html": [
       "<div>\n",
       "<style scoped>\n",
       "    .dataframe tbody tr th:only-of-type {\n",
       "        vertical-align: middle;\n",
       "    }\n",
       "\n",
       "    .dataframe tbody tr th {\n",
       "        vertical-align: top;\n",
       "    }\n",
       "\n",
       "    .dataframe thead tr th {\n",
       "        text-align: left;\n",
       "    }\n",
       "</style>\n",
       "<table border=\"1\" class=\"dataframe\">\n",
       "  <thead>\n",
       "    <tr>\n",
       "      <th></th>\n",
       "      <th>testX</th>\n",
       "      <th>testY</th>\n",
       "    </tr>\n",
       "    <tr>\n",
       "      <th></th>\n",
       "      <th>RawHigh</th>\n",
       "      <th>RawHigh</th>\n",
       "    </tr>\n",
       "  </thead>\n",
       "  <tbody>\n",
       "    <tr>\n",
       "      <th>2297</th>\n",
       "      <td>0.771992</td>\n",
       "      <td>0.773772</td>\n",
       "    </tr>\n",
       "    <tr>\n",
       "      <th>2298</th>\n",
       "      <td>0.773772</td>\n",
       "      <td>0.772550</td>\n",
       "    </tr>\n",
       "    <tr>\n",
       "      <th>2299</th>\n",
       "      <td>0.772550</td>\n",
       "      <td>0.775690</td>\n",
       "    </tr>\n",
       "    <tr>\n",
       "      <th>2300</th>\n",
       "      <td>0.775690</td>\n",
       "      <td>0.775800</td>\n",
       "    </tr>\n",
       "    <tr>\n",
       "      <th>2301</th>\n",
       "      <td>0.775800</td>\n",
       "      <td>0.775930</td>\n",
       "    </tr>\n",
       "    <tr>\n",
       "      <th>...</th>\n",
       "      <td>...</td>\n",
       "      <td>...</td>\n",
       "    </tr>\n",
       "    <tr>\n",
       "      <th>4589</th>\n",
       "      <td>0.847020</td>\n",
       "      <td>0.846070</td>\n",
       "    </tr>\n",
       "    <tr>\n",
       "      <th>4590</th>\n",
       "      <td>0.846070</td>\n",
       "      <td>0.849574</td>\n",
       "    </tr>\n",
       "    <tr>\n",
       "      <th>4591</th>\n",
       "      <td>0.849574</td>\n",
       "      <td>0.847314</td>\n",
       "    </tr>\n",
       "    <tr>\n",
       "      <th>4592</th>\n",
       "      <td>0.847314</td>\n",
       "      <td>0.847200</td>\n",
       "    </tr>\n",
       "    <tr>\n",
       "      <th>4593</th>\n",
       "      <td>0.847200</td>\n",
       "      <td>0.828800</td>\n",
       "    </tr>\n",
       "  </tbody>\n",
       "</table>\n",
       "<p>2297 rows × 2 columns</p>\n",
       "</div>"
      ],
      "text/plain": [
       "         testX     testY\n",
       "       RawHigh   RawHigh\n",
       "2297  0.771992  0.773772\n",
       "2298  0.773772  0.772550\n",
       "2299  0.772550  0.775690\n",
       "2300  0.775690  0.775800\n",
       "2301  0.775800  0.775930\n",
       "...        ...       ...\n",
       "4589  0.847020  0.846070\n",
       "4590  0.846070  0.849574\n",
       "4591  0.849574  0.847314\n",
       "4592  0.847314  0.847200\n",
       "4593  0.847200  0.828800\n",
       "\n",
       "[2297 rows x 2 columns]"
      ]
     },
     "execution_count": 298,
     "metadata": {},
     "output_type": "execute_result"
    }
   ],
   "source": [
    "pd.concat([testX, testY], axis=1, keys=['testX', 'testY'])"
   ]
  },
  {
   "cell_type": "code",
   "execution_count": 299,
   "id": "ecd3b534",
   "metadata": {},
   "outputs": [],
   "source": [
    "xgb = XGBRegressor(\n",
    "    **{\n",
    "        param.name: param.value \n",
    "        for param in model.hyperParameters \n",
    "        if param.name != 'n_estimators'}, \n",
    "    n_estimators=3000)"
   ]
  },
  {
   "cell_type": "code",
   "execution_count": 307,
   "id": "e3eedca3",
   "metadata": {},
   "outputs": [
    {
     "name": "stdout",
     "output_type": "stream",
     "text": [
      "[0]\tvalidation_0-mae:0.21366\n",
      "[1]\tvalidation_0-mae:0.14969\n",
      "[2]\tvalidation_0-mae:0.10488\n",
      "[3]\tvalidation_0-mae:0.07350\n",
      "[4]\tvalidation_0-mae:0.05153\n",
      "[5]\tvalidation_0-mae:0.03614\n",
      "[6]\tvalidation_0-mae:0.02536\n",
      "[7]\tvalidation_0-mae:0.01781\n",
      "[8]\tvalidation_0-mae:0.01256\n",
      "[9]\tvalidation_0-mae:0.00895\n",
      "[10]\tvalidation_0-mae:0.00657\n",
      "[11]\tvalidation_0-mae:0.00505\n",
      "[12]\tvalidation_0-mae:0.00412\n",
      "[13]\tvalidation_0-mae:0.00359\n",
      "[14]\tvalidation_0-mae:0.00329\n",
      "[15]\tvalidation_0-mae:0.00312\n",
      "[16]\tvalidation_0-mae:0.00303\n",
      "[17]\tvalidation_0-mae:0.00297\n",
      "[18]\tvalidation_0-mae:0.00292\n",
      "[19]\tvalidation_0-mae:0.00290\n",
      "[20]\tvalidation_0-mae:0.00288\n",
      "[21]\tvalidation_0-mae:0.00287\n",
      "[22]\tvalidation_0-mae:0.00286\n",
      "[23]\tvalidation_0-mae:0.00284\n",
      "[24]\tvalidation_0-mae:0.00284\n",
      "[25]\tvalidation_0-mae:0.00283\n",
      "[26]\tvalidation_0-mae:0.00282\n",
      "[27]\tvalidation_0-mae:0.00281\n",
      "[28]\tvalidation_0-mae:0.00280\n",
      "[29]\tvalidation_0-mae:0.00279\n",
      "[30]\tvalidation_0-mae:0.00279\n",
      "[31]\tvalidation_0-mae:0.00278\n",
      "[32]\tvalidation_0-mae:0.00277\n",
      "[33]\tvalidation_0-mae:0.00276\n",
      "[34]\tvalidation_0-mae:0.00276\n",
      "[35]\tvalidation_0-mae:0.00275\n",
      "[36]\tvalidation_0-mae:0.00275\n",
      "[37]\tvalidation_0-mae:0.00275\n",
      "[38]\tvalidation_0-mae:0.00274\n",
      "[39]\tvalidation_0-mae:0.00273\n",
      "[40]\tvalidation_0-mae:0.00272\n",
      "[41]\tvalidation_0-mae:0.00271\n",
      "[42]\tvalidation_0-mae:0.00271\n",
      "[43]\tvalidation_0-mae:0.00271\n",
      "[44]\tvalidation_0-mae:0.00270\n",
      "[45]\tvalidation_0-mae:0.00269\n",
      "[46]\tvalidation_0-mae:0.00268\n",
      "[47]\tvalidation_0-mae:0.00268\n",
      "[48]\tvalidation_0-mae:0.00267\n",
      "[49]\tvalidation_0-mae:0.00267\n",
      "[50]\tvalidation_0-mae:0.00267\n",
      "[51]\tvalidation_0-mae:0.00266\n",
      "[52]\tvalidation_0-mae:0.00266\n",
      "[53]\tvalidation_0-mae:0.00265\n",
      "[54]\tvalidation_0-mae:0.00264\n",
      "[55]\tvalidation_0-mae:0.00263\n",
      "[56]\tvalidation_0-mae:0.00262\n",
      "[57]\tvalidation_0-mae:0.00261\n",
      "[58]\tvalidation_0-mae:0.00261\n",
      "[59]\tvalidation_0-mae:0.00261\n",
      "[60]\tvalidation_0-mae:0.00261\n",
      "[61]\tvalidation_0-mae:0.00260\n",
      "[62]\tvalidation_0-mae:0.00260\n",
      "[63]\tvalidation_0-mae:0.00260\n",
      "[64]\tvalidation_0-mae:0.00260\n",
      "[65]\tvalidation_0-mae:0.00259\n",
      "[66]\tvalidation_0-mae:0.00259\n",
      "[67]\tvalidation_0-mae:0.00258\n",
      "[68]\tvalidation_0-mae:0.00258\n",
      "[69]\tvalidation_0-mae:0.00257\n",
      "[70]\tvalidation_0-mae:0.00257\n",
      "[71]\tvalidation_0-mae:0.00256\n",
      "[72]\tvalidation_0-mae:0.00255\n",
      "[73]\tvalidation_0-mae:0.00254\n",
      "[74]\tvalidation_0-mae:0.00254\n",
      "[75]\tvalidation_0-mae:0.00253\n",
      "[76]\tvalidation_0-mae:0.00253\n",
      "[77]\tvalidation_0-mae:0.00253\n",
      "[78]\tvalidation_0-mae:0.00253\n",
      "[79]\tvalidation_0-mae:0.00253\n",
      "[80]\tvalidation_0-mae:0.00253\n",
      "[81]\tvalidation_0-mae:0.00253\n",
      "[82]\tvalidation_0-mae:0.00253\n",
      "[83]\tvalidation_0-mae:0.00253\n",
      "[84]\tvalidation_0-mae:0.00253\n",
      "[85]\tvalidation_0-mae:0.00253\n",
      "[86]\tvalidation_0-mae:0.00253\n",
      "[87]\tvalidation_0-mae:0.00253\n",
      "[88]\tvalidation_0-mae:0.00253\n",
      "[89]\tvalidation_0-mae:0.00253\n",
      "[90]\tvalidation_0-mae:0.00253\n",
      "[91]\tvalidation_0-mae:0.00253\n",
      "[92]\tvalidation_0-mae:0.00253\n",
      "[93]\tvalidation_0-mae:0.00253\n",
      "[94]\tvalidation_0-mae:0.00253\n",
      "[95]\tvalidation_0-mae:0.00253\n",
      "[96]\tvalidation_0-mae:0.00253\n",
      "[97]\tvalidation_0-mae:0.00253\n",
      "[98]\tvalidation_0-mae:0.00253\n",
      "[99]\tvalidation_0-mae:0.00253\n",
      "[100]\tvalidation_0-mae:0.00253\n",
      "[101]\tvalidation_0-mae:0.00253\n",
      "[102]\tvalidation_0-mae:0.00253\n",
      "[103]\tvalidation_0-mae:0.00253\n",
      "[104]\tvalidation_0-mae:0.00253\n",
      "[105]\tvalidation_0-mae:0.00253\n",
      "[106]\tvalidation_0-mae:0.00253\n",
      "[107]\tvalidation_0-mae:0.00253\n",
      "[108]\tvalidation_0-mae:0.00253\n",
      "[109]\tvalidation_0-mae:0.00253\n",
      "[110]\tvalidation_0-mae:0.00253\n",
      "[111]\tvalidation_0-mae:0.00253\n",
      "[112]\tvalidation_0-mae:0.00253\n",
      "[113]\tvalidation_0-mae:0.00253\n",
      "[114]\tvalidation_0-mae:0.00253\n",
      "[115]\tvalidation_0-mae:0.00253\n",
      "[116]\tvalidation_0-mae:0.00253\n",
      "[117]\tvalidation_0-mae:0.00253\n",
      "[118]\tvalidation_0-mae:0.00253\n",
      "[119]\tvalidation_0-mae:0.00253\n",
      "[120]\tvalidation_0-mae:0.00253\n",
      "[121]\tvalidation_0-mae:0.00253\n",
      "[122]\tvalidation_0-mae:0.00253\n",
      "[123]\tvalidation_0-mae:0.00253\n",
      "[124]\tvalidation_0-mae:0.00253\n",
      "[125]\tvalidation_0-mae:0.00253\n",
      "[126]\tvalidation_0-mae:0.00253\n",
      "[127]\tvalidation_0-mae:0.00253\n",
      "[128]\tvalidation_0-mae:0.00253\n",
      "[129]\tvalidation_0-mae:0.00253\n",
      "[130]\tvalidation_0-mae:0.00253\n",
      "[131]\tvalidation_0-mae:0.00253\n",
      "[132]\tvalidation_0-mae:0.00253\n",
      "[133]\tvalidation_0-mae:0.00253\n",
      "[134]\tvalidation_0-mae:0.00253\n",
      "[135]\tvalidation_0-mae:0.00253\n",
      "[136]\tvalidation_0-mae:0.00253\n",
      "[137]\tvalidation_0-mae:0.00253\n",
      "[138]\tvalidation_0-mae:0.00253\n",
      "[139]\tvalidation_0-mae:0.00253\n",
      "[140]\tvalidation_0-mae:0.00253\n",
      "[141]\tvalidation_0-mae:0.00253\n",
      "[142]\tvalidation_0-mae:0.00253\n",
      "[143]\tvalidation_0-mae:0.00253\n",
      "[144]\tvalidation_0-mae:0.00253\n",
      "[145]\tvalidation_0-mae:0.00253\n",
      "[146]\tvalidation_0-mae:0.00253\n",
      "[147]\tvalidation_0-mae:0.00253\n",
      "[148]\tvalidation_0-mae:0.00253\n",
      "[149]\tvalidation_0-mae:0.00253\n",
      "[150]\tvalidation_0-mae:0.00253\n",
      "[151]\tvalidation_0-mae:0.00253\n",
      "[152]\tvalidation_0-mae:0.00253\n",
      "[153]\tvalidation_0-mae:0.00253\n",
      "[154]\tvalidation_0-mae:0.00253\n",
      "[155]\tvalidation_0-mae:0.00253\n",
      "[156]\tvalidation_0-mae:0.00253\n",
      "[157]\tvalidation_0-mae:0.00253\n",
      "[158]\tvalidation_0-mae:0.00253\n",
      "[159]\tvalidation_0-mae:0.00253\n",
      "[160]\tvalidation_0-mae:0.00253\n",
      "[161]\tvalidation_0-mae:0.00253\n",
      "[162]\tvalidation_0-mae:0.00253\n",
      "[163]\tvalidation_0-mae:0.00253\n",
      "[164]\tvalidation_0-mae:0.00253\n",
      "[165]\tvalidation_0-mae:0.00253\n",
      "[166]\tvalidation_0-mae:0.00253\n",
      "[167]\tvalidation_0-mae:0.00253\n",
      "[168]\tvalidation_0-mae:0.00253\n",
      "[169]\tvalidation_0-mae:0.00253\n",
      "[170]\tvalidation_0-mae:0.00253\n",
      "[171]\tvalidation_0-mae:0.00253\n",
      "[172]\tvalidation_0-mae:0.00253\n",
      "[173]\tvalidation_0-mae:0.00253\n",
      "[174]\tvalidation_0-mae:0.00253\n",
      "[175]\tvalidation_0-mae:0.00253\n",
      "[176]\tvalidation_0-mae:0.00253\n",
      "[177]\tvalidation_0-mae:0.00253\n",
      "[178]\tvalidation_0-mae:0.00253\n",
      "[179]\tvalidation_0-mae:0.00253\n",
      "[180]\tvalidation_0-mae:0.00253\n",
      "[181]\tvalidation_0-mae:0.00253\n",
      "[182]\tvalidation_0-mae:0.00253\n",
      "[183]\tvalidation_0-mae:0.00253\n",
      "[184]\tvalidation_0-mae:0.00253\n",
      "[185]\tvalidation_0-mae:0.00253\n",
      "[186]\tvalidation_0-mae:0.00253\n",
      "[187]\tvalidation_0-mae:0.00253\n",
      "[188]\tvalidation_0-mae:0.00253\n",
      "[189]\tvalidation_0-mae:0.00253\n",
      "[190]\tvalidation_0-mae:0.00253\n",
      "[191]\tvalidation_0-mae:0.00253\n",
      "[192]\tvalidation_0-mae:0.00253\n",
      "[193]\tvalidation_0-mae:0.00253\n",
      "[194]\tvalidation_0-mae:0.00253\n",
      "[195]\tvalidation_0-mae:0.00253\n",
      "[196]\tvalidation_0-mae:0.00253\n",
      "[197]\tvalidation_0-mae:0.00253\n",
      "[198]\tvalidation_0-mae:0.00253\n",
      "[199]\tvalidation_0-mae:0.00253\n",
      "[200]\tvalidation_0-mae:0.00253\n",
      "[201]\tvalidation_0-mae:0.00253\n",
      "[202]\tvalidation_0-mae:0.00253\n",
      "[203]\tvalidation_0-mae:0.00253\n"
     ]
    },
    {
     "data": {
      "text/plain": [
       "XGBRegressor(base_score=0.5, booster='gbtree', colsample_bylevel=1,\n",
       "             colsample_bynode=1, colsample_bytree=1, enable_categorical=False,\n",
       "             gamma=0, gpu_id=-1, importance_type=None,\n",
       "             interaction_constraints='', learning_rate=0.3, max_delta_step=0,\n",
       "             max_depth=6, min_child_weight=1, missing=nan,\n",
       "             monotone_constraints='()', n_estimators=3000, n_jobs=8,\n",
       "             num_parallel_tree=1, predictor='auto', random_state=0, reg_alpha=0,\n",
       "             reg_lambda=1, scale_pos_weight=1, subsample=1, tree_method='exact',\n",
       "             validate_parameters=1, verbosity=None)"
      ]
     },
     "execution_count": 307,
     "metadata": {},
     "output_type": "execute_result"
    }
   ],
   "source": [
    "xgb.fit(\n",
    "    data,\n",
    "    labels,\n",
    "    eval_set=[(data, labels)],\n",
    "    eval_metric='mae', \n",
    "    early_stopping_rounds=128,\n",
    "    verbose=True)"
   ]
  },
  {
   "cell_type": "code",
   "execution_count": 304,
   "id": "a79bb912",
   "metadata": {},
   "outputs": [
    {
     "name": "stdout",
     "output_type": "stream",
     "text": [
      "[0]\tvalidation_0-mae:0.18133\tvalidation_1-mae:0.25900\n",
      "[1]\tvalidation_0-mae:0.12708\tvalidation_1-mae:0.19352\n",
      "[2]\tvalidation_0-mae:0.08910\tvalidation_1-mae:0.14632\n",
      "[3]\tvalidation_0-mae:0.06250\tvalidation_1-mae:0.11204\n",
      "[4]\tvalidation_0-mae:0.04387\tvalidation_1-mae:0.08818\n",
      "[5]\tvalidation_0-mae:0.03083\tvalidation_1-mae:0.07024\n",
      "[6]\tvalidation_0-mae:0.02167\tvalidation_1-mae:0.05787\n",
      "[7]\tvalidation_0-mae:0.01527\tvalidation_1-mae:0.04833\n",
      "[8]\tvalidation_0-mae:0.01083\tvalidation_1-mae:0.04156\n",
      "[9]\tvalidation_0-mae:0.00785\tvalidation_1-mae:0.03667\n",
      "[10]\tvalidation_0-mae:0.00594\tvalidation_1-mae:0.03348\n",
      "[11]\tvalidation_0-mae:0.00477\tvalidation_1-mae:0.03100\n",
      "[12]\tvalidation_0-mae:0.00409\tvalidation_1-mae:0.02908\n",
      "[13]\tvalidation_0-mae:0.00372\tvalidation_1-mae:0.02795\n",
      "[14]\tvalidation_0-mae:0.00348\tvalidation_1-mae:0.02698\n",
      "[15]\tvalidation_0-mae:0.00337\tvalidation_1-mae:0.02620\n",
      "[16]\tvalidation_0-mae:0.00329\tvalidation_1-mae:0.02598\n",
      "[17]\tvalidation_0-mae:0.00324\tvalidation_1-mae:0.02549\n",
      "[18]\tvalidation_0-mae:0.00321\tvalidation_1-mae:0.02516\n",
      "[19]\tvalidation_0-mae:0.00317\tvalidation_1-mae:0.02510\n",
      "[20]\tvalidation_0-mae:0.00315\tvalidation_1-mae:0.02482\n",
      "[21]\tvalidation_0-mae:0.00313\tvalidation_1-mae:0.02479\n",
      "[22]\tvalidation_0-mae:0.00309\tvalidation_1-mae:0.02477\n",
      "[23]\tvalidation_0-mae:0.00308\tvalidation_1-mae:0.02466\n",
      "[24]\tvalidation_0-mae:0.00306\tvalidation_1-mae:0.02465\n",
      "[25]\tvalidation_0-mae:0.00304\tvalidation_1-mae:0.02464\n",
      "[26]\tvalidation_0-mae:0.00302\tvalidation_1-mae:0.02463\n",
      "[27]\tvalidation_0-mae:0.00301\tvalidation_1-mae:0.02463\n",
      "[28]\tvalidation_0-mae:0.00300\tvalidation_1-mae:0.02447\n",
      "[29]\tvalidation_0-mae:0.00299\tvalidation_1-mae:0.02445\n",
      "[30]\tvalidation_0-mae:0.00298\tvalidation_1-mae:0.02445\n",
      "[31]\tvalidation_0-mae:0.00297\tvalidation_1-mae:0.02445\n",
      "[32]\tvalidation_0-mae:0.00297\tvalidation_1-mae:0.02444\n",
      "[33]\tvalidation_0-mae:0.00296\tvalidation_1-mae:0.02443\n",
      "[34]\tvalidation_0-mae:0.00294\tvalidation_1-mae:0.02443\n",
      "[35]\tvalidation_0-mae:0.00292\tvalidation_1-mae:0.02444\n",
      "[36]\tvalidation_0-mae:0.00291\tvalidation_1-mae:0.02443\n",
      "[37]\tvalidation_0-mae:0.00290\tvalidation_1-mae:0.02432\n",
      "[38]\tvalidation_0-mae:0.00289\tvalidation_1-mae:0.02432\n",
      "[39]\tvalidation_0-mae:0.00287\tvalidation_1-mae:0.02432\n",
      "[40]\tvalidation_0-mae:0.00285\tvalidation_1-mae:0.02432\n",
      "[41]\tvalidation_0-mae:0.00283\tvalidation_1-mae:0.02432\n",
      "[42]\tvalidation_0-mae:0.00281\tvalidation_1-mae:0.02433\n",
      "[43]\tvalidation_0-mae:0.00281\tvalidation_1-mae:0.02433\n",
      "[44]\tvalidation_0-mae:0.00279\tvalidation_1-mae:0.02433\n",
      "[45]\tvalidation_0-mae:0.00278\tvalidation_1-mae:0.02434\n",
      "[46]\tvalidation_0-mae:0.00277\tvalidation_1-mae:0.02434\n",
      "[47]\tvalidation_0-mae:0.00276\tvalidation_1-mae:0.02434\n",
      "[48]\tvalidation_0-mae:0.00276\tvalidation_1-mae:0.02433\n",
      "[49]\tvalidation_0-mae:0.00274\tvalidation_1-mae:0.02435\n",
      "[50]\tvalidation_0-mae:0.00273\tvalidation_1-mae:0.02435\n",
      "[51]\tvalidation_0-mae:0.00272\tvalidation_1-mae:0.02435\n",
      "[52]\tvalidation_0-mae:0.00271\tvalidation_1-mae:0.02435\n",
      "[53]\tvalidation_0-mae:0.00271\tvalidation_1-mae:0.02435\n",
      "[54]\tvalidation_0-mae:0.00271\tvalidation_1-mae:0.02427\n",
      "[55]\tvalidation_0-mae:0.00270\tvalidation_1-mae:0.02427\n",
      "[56]\tvalidation_0-mae:0.00270\tvalidation_1-mae:0.02427\n",
      "[57]\tvalidation_0-mae:0.00269\tvalidation_1-mae:0.02428\n",
      "[58]\tvalidation_0-mae:0.00269\tvalidation_1-mae:0.02425\n",
      "[59]\tvalidation_0-mae:0.00269\tvalidation_1-mae:0.02426\n",
      "[60]\tvalidation_0-mae:0.00268\tvalidation_1-mae:0.02425\n",
      "[61]\tvalidation_0-mae:0.00267\tvalidation_1-mae:0.02426\n",
      "[62]\tvalidation_0-mae:0.00267\tvalidation_1-mae:0.02426\n",
      "[63]\tvalidation_0-mae:0.00266\tvalidation_1-mae:0.02426\n",
      "[64]\tvalidation_0-mae:0.00266\tvalidation_1-mae:0.02426\n",
      "[65]\tvalidation_0-mae:0.00266\tvalidation_1-mae:0.02426\n",
      "[66]\tvalidation_0-mae:0.00266\tvalidation_1-mae:0.02426\n",
      "[67]\tvalidation_0-mae:0.00266\tvalidation_1-mae:0.02426\n",
      "[68]\tvalidation_0-mae:0.00266\tvalidation_1-mae:0.02426\n",
      "[69]\tvalidation_0-mae:0.00266\tvalidation_1-mae:0.02426\n",
      "[70]\tvalidation_0-mae:0.00266\tvalidation_1-mae:0.02426\n",
      "[71]\tvalidation_0-mae:0.00266\tvalidation_1-mae:0.02426\n",
      "[72]\tvalidation_0-mae:0.00266\tvalidation_1-mae:0.02426\n",
      "[73]\tvalidation_0-mae:0.00266\tvalidation_1-mae:0.02426\n",
      "[74]\tvalidation_0-mae:0.00266\tvalidation_1-mae:0.02426\n",
      "[75]\tvalidation_0-mae:0.00266\tvalidation_1-mae:0.02426\n",
      "[76]\tvalidation_0-mae:0.00266\tvalidation_1-mae:0.02426\n",
      "[77]\tvalidation_0-mae:0.00266\tvalidation_1-mae:0.02426\n",
      "[78]\tvalidation_0-mae:0.00266\tvalidation_1-mae:0.02426\n",
      "[79]\tvalidation_0-mae:0.00266\tvalidation_1-mae:0.02426\n",
      "[80]\tvalidation_0-mae:0.00266\tvalidation_1-mae:0.02426\n",
      "[81]\tvalidation_0-mae:0.00266\tvalidation_1-mae:0.02426\n",
      "[82]\tvalidation_0-mae:0.00266\tvalidation_1-mae:0.02426\n",
      "[83]\tvalidation_0-mae:0.00266\tvalidation_1-mae:0.02426\n",
      "[84]\tvalidation_0-mae:0.00266\tvalidation_1-mae:0.02426\n",
      "[85]\tvalidation_0-mae:0.00266\tvalidation_1-mae:0.02426\n",
      "[86]\tvalidation_0-mae:0.00266\tvalidation_1-mae:0.02426\n",
      "[87]\tvalidation_0-mae:0.00266\tvalidation_1-mae:0.02426\n",
      "[88]\tvalidation_0-mae:0.00266\tvalidation_1-mae:0.02426\n",
      "[89]\tvalidation_0-mae:0.00266\tvalidation_1-mae:0.02426\n",
      "[90]\tvalidation_0-mae:0.00266\tvalidation_1-mae:0.02426\n",
      "[91]\tvalidation_0-mae:0.00266\tvalidation_1-mae:0.02426\n",
      "[92]\tvalidation_0-mae:0.00266\tvalidation_1-mae:0.02426\n",
      "[93]\tvalidation_0-mae:0.00266\tvalidation_1-mae:0.02426\n",
      "[94]\tvalidation_0-mae:0.00266\tvalidation_1-mae:0.02426\n",
      "[95]\tvalidation_0-mae:0.00266\tvalidation_1-mae:0.02426\n",
      "[96]\tvalidation_0-mae:0.00266\tvalidation_1-mae:0.02426\n",
      "[97]\tvalidation_0-mae:0.00266\tvalidation_1-mae:0.02426\n",
      "[98]\tvalidation_0-mae:0.00266\tvalidation_1-mae:0.02426\n",
      "[99]\tvalidation_0-mae:0.00266\tvalidation_1-mae:0.02426\n",
      "[100]\tvalidation_0-mae:0.00266\tvalidation_1-mae:0.02426\n",
      "[101]\tvalidation_0-mae:0.00266\tvalidation_1-mae:0.02426\n",
      "[102]\tvalidation_0-mae:0.00266\tvalidation_1-mae:0.02426\n",
      "[103]\tvalidation_0-mae:0.00266\tvalidation_1-mae:0.02426\n",
      "[104]\tvalidation_0-mae:0.00266\tvalidation_1-mae:0.02426\n",
      "[105]\tvalidation_0-mae:0.00266\tvalidation_1-mae:0.02426\n",
      "[106]\tvalidation_0-mae:0.00266\tvalidation_1-mae:0.02426\n",
      "[107]\tvalidation_0-mae:0.00266\tvalidation_1-mae:0.02426\n",
      "[108]\tvalidation_0-mae:0.00266\tvalidation_1-mae:0.02426\n",
      "[109]\tvalidation_0-mae:0.00266\tvalidation_1-mae:0.02426\n",
      "[110]\tvalidation_0-mae:0.00266\tvalidation_1-mae:0.02426\n",
      "[111]\tvalidation_0-mae:0.00266\tvalidation_1-mae:0.02426\n",
      "[112]\tvalidation_0-mae:0.00266\tvalidation_1-mae:0.02426\n",
      "[113]\tvalidation_0-mae:0.00266\tvalidation_1-mae:0.02426\n",
      "[114]\tvalidation_0-mae:0.00266\tvalidation_1-mae:0.02426\n",
      "[115]\tvalidation_0-mae:0.00266\tvalidation_1-mae:0.02426\n",
      "[116]\tvalidation_0-mae:0.00266\tvalidation_1-mae:0.02426\n",
      "[117]\tvalidation_0-mae:0.00266\tvalidation_1-mae:0.02426\n",
      "[118]\tvalidation_0-mae:0.00266\tvalidation_1-mae:0.02426\n",
      "[119]\tvalidation_0-mae:0.00266\tvalidation_1-mae:0.02426\n",
      "[120]\tvalidation_0-mae:0.00266\tvalidation_1-mae:0.02426\n",
      "[121]\tvalidation_0-mae:0.00266\tvalidation_1-mae:0.02426\n",
      "[122]\tvalidation_0-mae:0.00266\tvalidation_1-mae:0.02426\n",
      "[123]\tvalidation_0-mae:0.00266\tvalidation_1-mae:0.02426\n",
      "[124]\tvalidation_0-mae:0.00266\tvalidation_1-mae:0.02426\n",
      "[125]\tvalidation_0-mae:0.00266\tvalidation_1-mae:0.02426\n",
      "[126]\tvalidation_0-mae:0.00266\tvalidation_1-mae:0.02426\n",
      "[127]\tvalidation_0-mae:0.00266\tvalidation_1-mae:0.02426\n",
      "[128]\tvalidation_0-mae:0.00266\tvalidation_1-mae:0.02426\n",
      "[129]\tvalidation_0-mae:0.00266\tvalidation_1-mae:0.02426\n",
      "[130]\tvalidation_0-mae:0.00266\tvalidation_1-mae:0.02426\n",
      "[131]\tvalidation_0-mae:0.00266\tvalidation_1-mae:0.02426\n",
      "[132]\tvalidation_0-mae:0.00266\tvalidation_1-mae:0.02426\n",
      "[133]\tvalidation_0-mae:0.00266\tvalidation_1-mae:0.02426\n",
      "[134]\tvalidation_0-mae:0.00266\tvalidation_1-mae:0.02426\n",
      "[135]\tvalidation_0-mae:0.00266\tvalidation_1-mae:0.02426\n",
      "[136]\tvalidation_0-mae:0.00266\tvalidation_1-mae:0.02426\n",
      "[137]\tvalidation_0-mae:0.00266\tvalidation_1-mae:0.02426\n",
      "[138]\tvalidation_0-mae:0.00266\tvalidation_1-mae:0.02426\n",
      "[139]\tvalidation_0-mae:0.00266\tvalidation_1-mae:0.02426\n",
      "[140]\tvalidation_0-mae:0.00266\tvalidation_1-mae:0.02426\n",
      "[141]\tvalidation_0-mae:0.00266\tvalidation_1-mae:0.02426\n",
      "[142]\tvalidation_0-mae:0.00266\tvalidation_1-mae:0.02426\n",
      "[143]\tvalidation_0-mae:0.00266\tvalidation_1-mae:0.02426\n",
      "[144]\tvalidation_0-mae:0.00266\tvalidation_1-mae:0.02426\n",
      "[145]\tvalidation_0-mae:0.00266\tvalidation_1-mae:0.02426\n",
      "[146]\tvalidation_0-mae:0.00266\tvalidation_1-mae:0.02426\n",
      "[147]\tvalidation_0-mae:0.00266\tvalidation_1-mae:0.02426\n",
      "[148]\tvalidation_0-mae:0.00266\tvalidation_1-mae:0.02426\n"
     ]
    },
    {
     "name": "stdout",
     "output_type": "stream",
     "text": [
      "[149]\tvalidation_0-mae:0.00266\tvalidation_1-mae:0.02426\n",
      "[150]\tvalidation_0-mae:0.00266\tvalidation_1-mae:0.02426\n",
      "[151]\tvalidation_0-mae:0.00266\tvalidation_1-mae:0.02426\n",
      "[152]\tvalidation_0-mae:0.00266\tvalidation_1-mae:0.02426\n",
      "[153]\tvalidation_0-mae:0.00266\tvalidation_1-mae:0.02426\n",
      "[154]\tvalidation_0-mae:0.00266\tvalidation_1-mae:0.02426\n",
      "[155]\tvalidation_0-mae:0.00266\tvalidation_1-mae:0.02426\n",
      "[156]\tvalidation_0-mae:0.00266\tvalidation_1-mae:0.02426\n",
      "[157]\tvalidation_0-mae:0.00266\tvalidation_1-mae:0.02426\n",
      "[158]\tvalidation_0-mae:0.00266\tvalidation_1-mae:0.02426\n",
      "[159]\tvalidation_0-mae:0.00266\tvalidation_1-mae:0.02426\n",
      "[160]\tvalidation_0-mae:0.00266\tvalidation_1-mae:0.02426\n",
      "[161]\tvalidation_0-mae:0.00266\tvalidation_1-mae:0.02426\n",
      "[162]\tvalidation_0-mae:0.00266\tvalidation_1-mae:0.02426\n",
      "[163]\tvalidation_0-mae:0.00266\tvalidation_1-mae:0.02426\n",
      "[164]\tvalidation_0-mae:0.00266\tvalidation_1-mae:0.02426\n",
      "[165]\tvalidation_0-mae:0.00266\tvalidation_1-mae:0.02426\n",
      "[166]\tvalidation_0-mae:0.00266\tvalidation_1-mae:0.02426\n",
      "[167]\tvalidation_0-mae:0.00266\tvalidation_1-mae:0.02426\n",
      "[168]\tvalidation_0-mae:0.00266\tvalidation_1-mae:0.02426\n",
      "[169]\tvalidation_0-mae:0.00266\tvalidation_1-mae:0.02426\n",
      "[170]\tvalidation_0-mae:0.00266\tvalidation_1-mae:0.02426\n",
      "[171]\tvalidation_0-mae:0.00266\tvalidation_1-mae:0.02426\n",
      "[172]\tvalidation_0-mae:0.00266\tvalidation_1-mae:0.02426\n",
      "[173]\tvalidation_0-mae:0.00266\tvalidation_1-mae:0.02426\n",
      "[174]\tvalidation_0-mae:0.00266\tvalidation_1-mae:0.02426\n",
      "[175]\tvalidation_0-mae:0.00266\tvalidation_1-mae:0.02426\n",
      "[176]\tvalidation_0-mae:0.00266\tvalidation_1-mae:0.02426\n",
      "[177]\tvalidation_0-mae:0.00266\tvalidation_1-mae:0.02426\n",
      "[178]\tvalidation_0-mae:0.00266\tvalidation_1-mae:0.02426\n",
      "[179]\tvalidation_0-mae:0.00266\tvalidation_1-mae:0.02426\n",
      "[180]\tvalidation_0-mae:0.00266\tvalidation_1-mae:0.02426\n",
      "[181]\tvalidation_0-mae:0.00266\tvalidation_1-mae:0.02426\n",
      "[182]\tvalidation_0-mae:0.00266\tvalidation_1-mae:0.02426\n",
      "[183]\tvalidation_0-mae:0.00266\tvalidation_1-mae:0.02426\n",
      "[184]\tvalidation_0-mae:0.00266\tvalidation_1-mae:0.02426\n",
      "[185]\tvalidation_0-mae:0.00266\tvalidation_1-mae:0.02426\n",
      "[186]\tvalidation_0-mae:0.00266\tvalidation_1-mae:0.02426\n",
      "[187]\tvalidation_0-mae:0.00266\tvalidation_1-mae:0.02426\n"
     ]
    },
    {
     "data": {
      "text/plain": [
       "XGBRegressor(base_score=0.5, booster='gbtree', colsample_bylevel=1,\n",
       "             colsample_bynode=1, colsample_bytree=1, enable_categorical=False,\n",
       "             gamma=0, gpu_id=-1, importance_type=None,\n",
       "             interaction_constraints='', learning_rate=0.3, max_delta_step=0,\n",
       "             max_depth=6, min_child_weight=1, missing=nan,\n",
       "             monotone_constraints='()', n_estimators=3000, n_jobs=8,\n",
       "             num_parallel_tree=1, predictor='auto', random_state=0, reg_alpha=0,\n",
       "             reg_lambda=1, scale_pos_weight=1, subsample=1, tree_method='exact',\n",
       "             validate_parameters=1, verbosity=None)"
      ]
     },
     "execution_count": 304,
     "metadata": {},
     "output_type": "execute_result"
    }
   ],
   "source": [
    "xgb.fit(\n",
    "    trainX,\n",
    "    trainY,\n",
    "    eval_set=[(trainX, trainY), (testX, testY)],\n",
    "    eval_metric='mae', \n",
    "    early_stopping_rounds=128,\n",
    "    verbose=True)"
   ]
  },
  {
   "cell_type": "code",
   "execution_count": 310,
   "id": "2fd53526",
   "metadata": {},
   "outputs": [],
   "source": [
    "evals_result = xgb.evals_result()\n"
   ]
  },
  {
   "cell_type": "code",
   "execution_count": 311,
   "id": "0ad7953f",
   "metadata": {},
   "outputs": [
    {
     "data": {
      "text/html": [
       "<div>\n",
       "<style scoped>\n",
       "    .dataframe tbody tr th:only-of-type {\n",
       "        vertical-align: middle;\n",
       "    }\n",
       "\n",
       "    .dataframe tbody tr th {\n",
       "        vertical-align: top;\n",
       "    }\n",
       "\n",
       "    .dataframe thead th {\n",
       "        text-align: right;\n",
       "    }\n",
       "</style>\n",
       "<table border=\"1\" class=\"dataframe\">\n",
       "  <thead>\n",
       "    <tr style=\"text-align: right;\">\n",
       "      <th></th>\n",
       "      <th>RawHigh</th>\n",
       "    </tr>\n",
       "  </thead>\n",
       "  <tbody>\n",
       "    <tr>\n",
       "      <th>4592</th>\n",
       "      <td>0.847314</td>\n",
       "    </tr>\n",
       "  </tbody>\n",
       "</table>\n",
       "</div>"
      ],
      "text/plain": [
       "       RawHigh\n",
       "4592  0.847314"
      ]
     },
     "execution_count": 311,
     "metadata": {},
     "output_type": "execute_result"
    }
   ],
   "source": [
    "yesterday"
   ]
  },
  {
   "cell_type": "code",
   "execution_count": 312,
   "id": "7813a6e0",
   "metadata": {},
   "outputs": [
    {
     "data": {
      "text/html": [
       "<div>\n",
       "<style scoped>\n",
       "    .dataframe tbody tr th:only-of-type {\n",
       "        vertical-align: middle;\n",
       "    }\n",
       "\n",
       "    .dataframe tbody tr th {\n",
       "        vertical-align: top;\n",
       "    }\n",
       "\n",
       "    .dataframe thead th {\n",
       "        text-align: right;\n",
       "    }\n",
       "</style>\n",
       "<table border=\"1\" class=\"dataframe\">\n",
       "  <thead>\n",
       "    <tr style=\"text-align: right;\">\n",
       "      <th></th>\n",
       "      <th>RawHigh</th>\n",
       "    </tr>\n",
       "  </thead>\n",
       "  <tbody>\n",
       "    <tr>\n",
       "      <th>4593</th>\n",
       "      <td>0.8472</td>\n",
       "    </tr>\n",
       "  </tbody>\n",
       "</table>\n",
       "</div>"
      ],
      "text/plain": [
       "      RawHigh\n",
       "4593   0.8472"
      ]
     },
     "execution_count": 312,
     "metadata": {},
     "output_type": "execute_result"
    }
   ],
   "source": [
    "today"
   ]
  },
  {
   "cell_type": "code",
   "execution_count": 313,
   "id": "92af88e0",
   "metadata": {},
   "outputs": [
    {
     "data": {
      "text/html": [
       "<div>\n",
       "<style scoped>\n",
       "    .dataframe tbody tr th:only-of-type {\n",
       "        vertical-align: middle;\n",
       "    }\n",
       "\n",
       "    .dataframe tbody tr th {\n",
       "        vertical-align: top;\n",
       "    }\n",
       "\n",
       "    .dataframe thead th {\n",
       "        text-align: right;\n",
       "    }\n",
       "</style>\n",
       "<table border=\"1\" class=\"dataframe\">\n",
       "  <thead>\n",
       "    <tr style=\"text-align: right;\">\n",
       "      <th></th>\n",
       "      <th>RawHigh</th>\n",
       "    </tr>\n",
       "  </thead>\n",
       "  <tbody>\n",
       "    <tr>\n",
       "      <th>4594</th>\n",
       "      <td>0.8288</td>\n",
       "    </tr>\n",
       "  </tbody>\n",
       "</table>\n",
       "</div>"
      ],
      "text/plain": [
       "      RawHigh\n",
       "4594   0.8288"
      ]
     },
     "execution_count": 313,
     "metadata": {},
     "output_type": "execute_result"
    }
   ],
   "source": [
    "current"
   ]
  },
  {
   "cell_type": "code",
   "execution_count": 315,
   "id": "4d5cf5e7",
   "metadata": {},
   "outputs": [
    {
     "data": {
      "text/plain": [
       "array([0.8387696], dtype=float32)"
      ]
     },
     "execution_count": 315,
     "metadata": {},
     "output_type": "execute_result"
    }
   ],
   "source": [
    "xgb.predict(today)#, iteration_range=(7,56))"
   ]
  },
  {
   "cell_type": "markdown",
   "id": "dcd3d41a",
   "metadata": {},
   "source": [
    "[299]\tvalidation_0-mae:0.00253\tvalidation_1-mae:0.00292\n",
    "XGBRegressor(base_score=0.5, booster='gbtree', colsample_bylevel=1,\n",
    "             colsample_bynode=1, colsample_bytree=1, enable_categorical=False,\n",
    "             gamma=0, gpu_id=-1, importance_type=None,\n",
    "             interaction_constraints='', learning_rate=0.3, max_delta_step=0,\n",
    "             max_depth=6, min_child_weight=1, missing=nan,\n",
    "             monotone_constraints='()', n_estimators=300, n_jobs=8,\n",
    "             num_parallel_tree=1, predictor='auto', random_state=0, reg_alpha=0,\n",
    "             reg_lambda=1, scale_pos_weight=1, subsample=1, tree_method='exact',\n",
    "             validate_parameters=1, verbosity=None)"
   ]
  },
  {
   "cell_type": "code",
   "execution_count": 106,
   "id": "a3c294d0",
   "metadata": {},
   "outputs": [
    {
     "data": {
      "text/plain": [
       "array([0.8284466], dtype=float32)"
      ]
     },
     "execution_count": 106,
     "metadata": {},
     "output_type": "execute_result"
    }
   ],
   "source": [
    "#20 %\n",
    "xgb.predict(current)"
   ]
  },
  {
   "cell_type": "code",
   "execution_count": 112,
   "id": "10016586",
   "metadata": {},
   "outputs": [
    {
     "data": {
      "text/plain": [
       "array([0.8275409], dtype=float32)"
      ]
     },
     "execution_count": 112,
     "metadata": {},
     "output_type": "execute_result"
    }
   ],
   "source": [
    "#10 %\n",
    "xgb.predict(current)"
   ]
  },
  {
   "cell_type": "code",
   "execution_count": 118,
   "id": "561910f9",
   "metadata": {},
   "outputs": [
    {
     "data": {
      "text/plain": [
       "array([0.82887274], dtype=float32)"
      ]
     },
     "execution_count": 118,
     "metadata": {},
     "output_type": "execute_result"
    }
   ],
   "source": [
    "#1 %\n",
    "xgb.predict(current)"
   ]
  },
  {
   "cell_type": "code",
   "execution_count": 127,
   "id": "76c513ba",
   "metadata": {},
   "outputs": [
    {
     "data": {
      "text/plain": [
       "array([0.8291307], dtype=float32)"
      ]
     },
     "execution_count": 127,
     "metadata": {},
     "output_type": "execute_result"
    }
   ],
   "source": [
    "#0 %\n",
    "xgb.predict(current)"
   ]
  },
  {
   "cell_type": "code",
   "execution_count": 135,
   "id": "fcaaed34",
   "metadata": {},
   "outputs": [
    {
     "data": {
      "text/plain": [
       "array([0.8291307], dtype=float32)"
      ]
     },
     "execution_count": 135,
     "metadata": {},
     "output_type": "execute_result"
    }
   ],
   "source": [
    "#0 % no eval set\n",
    "xgb.predict(current)"
   ]
  },
  {
   "cell_type": "code",
   "execution_count": 136,
   "id": "5c01bea1",
   "metadata": {},
   "outputs": [
    {
     "data": {
      "text/html": [
       "<div>\n",
       "<style scoped>\n",
       "    .dataframe tbody tr th:only-of-type {\n",
       "        vertical-align: middle;\n",
       "    }\n",
       "\n",
       "    .dataframe tbody tr th {\n",
       "        vertical-align: top;\n",
       "    }\n",
       "\n",
       "    .dataframe thead th {\n",
       "        text-align: right;\n",
       "    }\n",
       "</style>\n",
       "<table border=\"1\" class=\"dataframe\">\n",
       "  <thead>\n",
       "    <tr style=\"text-align: right;\">\n",
       "      <th></th>\n",
       "      <th>RawHigh</th>\n",
       "    </tr>\n",
       "  </thead>\n",
       "  <tbody>\n",
       "    <tr>\n",
       "      <th>4594</th>\n",
       "      <td>0.8288</td>\n",
       "    </tr>\n",
       "  </tbody>\n",
       "</table>\n",
       "</div>"
      ],
      "text/plain": [
       "      RawHigh\n",
       "4594   0.8288"
      ]
     },
     "execution_count": 136,
     "metadata": {},
     "output_type": "execute_result"
    }
   ],
   "source": [
    "current"
   ]
  },
  {
   "cell_type": "code",
   "execution_count": 172,
   "id": "e57e9b88",
   "metadata": {},
   "outputs": [
    {
     "data": {
      "text/html": [
       "<div>\n",
       "<style scoped>\n",
       "    .dataframe tbody tr th:only-of-type {\n",
       "        vertical-align: middle;\n",
       "    }\n",
       "\n",
       "    .dataframe tbody tr th {\n",
       "        vertical-align: top;\n",
       "    }\n",
       "\n",
       "    .dataframe thead th {\n",
       "        text-align: right;\n",
       "    }\n",
       "</style>\n",
       "<table border=\"1\" class=\"dataframe\">\n",
       "  <thead>\n",
       "    <tr style=\"text-align: right;\">\n",
       "      <th></th>\n",
       "      <th>RawHigh</th>\n",
       "    </tr>\n",
       "  </thead>\n",
       "  <tbody>\n",
       "    <tr>\n",
       "      <th>4592</th>\n",
       "      <td>0.847314</td>\n",
       "    </tr>\n",
       "    <tr>\n",
       "      <th>4593</th>\n",
       "      <td>0.847200</td>\n",
       "    </tr>\n",
       "  </tbody>\n",
       "</table>\n",
       "</div>"
      ],
      "text/plain": [
       "       RawHigh\n",
       "4592  0.847314\n",
       "4593  0.847200"
      ]
     },
     "execution_count": 172,
     "metadata": {},
     "output_type": "execute_result"
    }
   ],
   "source": [
    "testX"
   ]
  },
  {
   "cell_type": "code",
   "execution_count": 170,
   "id": "e6abf7bf",
   "metadata": {},
   "outputs": [],
   "source": [
    "yesterday = pd.DataFrame(testX.iloc[0]).T"
   ]
  },
  {
   "cell_type": "code",
   "execution_count": 292,
   "id": "78c30bf3",
   "metadata": {},
   "outputs": [
    {
     "data": {
      "text/html": [
       "<div>\n",
       "<style scoped>\n",
       "    .dataframe tbody tr th:only-of-type {\n",
       "        vertical-align: middle;\n",
       "    }\n",
       "\n",
       "    .dataframe tbody tr th {\n",
       "        vertical-align: top;\n",
       "    }\n",
       "\n",
       "    .dataframe thead th {\n",
       "        text-align: right;\n",
       "    }\n",
       "</style>\n",
       "<table border=\"1\" class=\"dataframe\">\n",
       "  <thead>\n",
       "    <tr style=\"text-align: right;\">\n",
       "      <th></th>\n",
       "      <th>RawHigh</th>\n",
       "    </tr>\n",
       "  </thead>\n",
       "  <tbody>\n",
       "    <tr>\n",
       "      <th>4592</th>\n",
       "      <td>0.847314</td>\n",
       "    </tr>\n",
       "  </tbody>\n",
       "</table>\n",
       "</div>"
      ],
      "text/plain": [
       "       RawHigh\n",
       "4592  0.847314"
      ]
     },
     "execution_count": 292,
     "metadata": {},
     "output_type": "execute_result"
    }
   ],
   "source": [
    "yesterday"
   ]
  },
  {
   "cell_type": "code",
   "execution_count": 293,
   "id": "627b1b21",
   "metadata": {},
   "outputs": [
    {
     "data": {
      "text/html": [
       "<div>\n",
       "<style scoped>\n",
       "    .dataframe tbody tr th:only-of-type {\n",
       "        vertical-align: middle;\n",
       "    }\n",
       "\n",
       "    .dataframe tbody tr th {\n",
       "        vertical-align: top;\n",
       "    }\n",
       "\n",
       "    .dataframe thead th {\n",
       "        text-align: right;\n",
       "    }\n",
       "</style>\n",
       "<table border=\"1\" class=\"dataframe\">\n",
       "  <thead>\n",
       "    <tr style=\"text-align: right;\">\n",
       "      <th></th>\n",
       "      <th>RawHigh</th>\n",
       "    </tr>\n",
       "  </thead>\n",
       "  <tbody>\n",
       "    <tr>\n",
       "      <th>4593</th>\n",
       "      <td>0.8472</td>\n",
       "    </tr>\n",
       "  </tbody>\n",
       "</table>\n",
       "</div>"
      ],
      "text/plain": [
       "      RawHigh\n",
       "4593   0.8472"
      ]
     },
     "execution_count": 293,
     "metadata": {},
     "output_type": "execute_result"
    }
   ],
   "source": [
    "#today = pd.DataFrame(testX.iloc[-1]).T\n",
    "today"
   ]
  },
  {
   "cell_type": "code",
   "execution_count": 173,
   "id": "92fcdb7c",
   "metadata": {},
   "outputs": [
    {
     "data": {
      "text/plain": [
       "array([0.8494901], dtype=float32)"
      ]
     },
     "execution_count": 173,
     "metadata": {},
     "output_type": "execute_result"
    }
   ],
   "source": [
    "#0 % no eval set\n",
    "xgb.predict(yesterday)"
   ]
  },
  {
   "cell_type": "code",
   "execution_count": 179,
   "id": "86379826",
   "metadata": {},
   "outputs": [
    {
     "data": {
      "text/plain": [
       "array([0.8475488], dtype=float32)"
      ]
     },
     "execution_count": 179,
     "metadata": {},
     "output_type": "execute_result"
    }
   ],
   "source": [
    "#20 %\n",
    "xgb.predict(yesterday)"
   ]
  },
  {
   "cell_type": "code",
   "execution_count": 185,
   "id": "f78f2051",
   "metadata": {},
   "outputs": [
    {
     "data": {
      "text/plain": [
       "array([0.8458524], dtype=float32)"
      ]
     },
     "execution_count": 185,
     "metadata": {},
     "output_type": "execute_result"
    }
   ],
   "source": [
    "#10 %\n",
    "xgb.predict(yesterday)"
   ]
  },
  {
   "cell_type": "code",
   "execution_count": 191,
   "id": "4d07dd33",
   "metadata": {},
   "outputs": [
    {
     "data": {
      "text/plain": [
       "array([0.8482324], dtype=float32)"
      ]
     },
     "execution_count": 191,
     "metadata": {},
     "output_type": "execute_result"
    }
   ],
   "source": [
    "#1 %\n",
    "xgb.predict(yesterday)"
   ]
  },
  {
   "cell_type": "code",
   "execution_count": 197,
   "id": "f1800f25",
   "metadata": {},
   "outputs": [
    {
     "data": {
      "text/plain": [
       "array([0.8471888], dtype=float32)"
      ]
     },
     "execution_count": 197,
     "metadata": {},
     "output_type": "execute_result"
    }
   ],
   "source": [
    "#50 %\n",
    "xgb.predict(yesterday)"
   ]
  },
  {
   "cell_type": "code",
   "execution_count": 199,
   "id": "8254fabc",
   "metadata": {},
   "outputs": [
    {
     "data": {
      "text/plain": [
       "array([0.8471888], dtype=float32)"
      ]
     },
     "execution_count": 199,
     "metadata": {},
     "output_type": "execute_result"
    }
   ],
   "source": [
    "#50 %\n",
    "xgb.predict(yesterday)"
   ]
  },
  {
   "cell_type": "code",
   "execution_count": 201,
   "id": "a4557d15",
   "metadata": {},
   "outputs": [],
   "source": [
    "xgb.base_score\n"
   ]
  },
  {
   "cell_type": "code",
   "execution_count": 294,
   "id": "f553903e",
   "metadata": {},
   "outputs": [
    {
     "data": {
      "text/plain": [
       "array([0.8291556], dtype=float32)"
      ]
     },
     "execution_count": 294,
     "metadata": {},
     "output_type": "execute_result"
    }
   ],
   "source": [
    "#50 %\n",
    "xgb.predict( pd.DataFrame({'RawHigh':[.8286]}))"
   ]
  },
  {
   "cell_type": "code",
   "execution_count": 305,
   "id": "4ca0cfec",
   "metadata": {},
   "outputs": [
    {
     "data": {
      "text/html": [
       "<div>\n",
       "<style scoped>\n",
       "    .dataframe tbody tr th:only-of-type {\n",
       "        vertical-align: middle;\n",
       "    }\n",
       "\n",
       "    .dataframe tbody tr th {\n",
       "        vertical-align: top;\n",
       "    }\n",
       "\n",
       "    .dataframe thead th {\n",
       "        text-align: right;\n",
       "    }\n",
       "</style>\n",
       "<table border=\"1\" class=\"dataframe\">\n",
       "  <thead>\n",
       "    <tr style=\"text-align: right;\">\n",
       "      <th></th>\n",
       "      <th>RawHigh</th>\n",
       "    </tr>\n",
       "  </thead>\n",
       "  <tbody>\n",
       "    <tr>\n",
       "      <th>0</th>\n",
       "      <td>0.837100</td>\n",
       "    </tr>\n",
       "    <tr>\n",
       "      <th>1</th>\n",
       "      <td>0.828020</td>\n",
       "    </tr>\n",
       "    <tr>\n",
       "      <th>2</th>\n",
       "      <td>0.830290</td>\n",
       "    </tr>\n",
       "    <tr>\n",
       "      <th>3</th>\n",
       "      <td>0.828780</td>\n",
       "    </tr>\n",
       "    <tr>\n",
       "      <th>4</th>\n",
       "      <td>0.822770</td>\n",
       "    </tr>\n",
       "    <tr>\n",
       "      <th>...</th>\n",
       "      <td>...</td>\n",
       "    </tr>\n",
       "    <tr>\n",
       "      <th>4590</th>\n",
       "      <td>0.849574</td>\n",
       "    </tr>\n",
       "    <tr>\n",
       "      <th>4591</th>\n",
       "      <td>0.847314</td>\n",
       "    </tr>\n",
       "    <tr>\n",
       "      <th>4592</th>\n",
       "      <td>0.847200</td>\n",
       "    </tr>\n",
       "    <tr>\n",
       "      <th>4593</th>\n",
       "      <td>0.828800</td>\n",
       "    </tr>\n",
       "    <tr>\n",
       "      <th>4594</th>\n",
       "      <td>NaN</td>\n",
       "    </tr>\n",
       "  </tbody>\n",
       "</table>\n",
       "<p>4595 rows × 1 columns</p>\n",
       "</div>"
      ],
      "text/plain": [
       "       RawHigh\n",
       "0     0.837100\n",
       "1     0.828020\n",
       "2     0.830290\n",
       "3     0.828780\n",
       "4     0.822770\n",
       "...        ...\n",
       "4590  0.849574\n",
       "4591  0.847314\n",
       "4592  0.847200\n",
       "4593  0.828800\n",
       "4594       NaN\n",
       "\n",
       "[4595 rows x 1 columns]"
      ]
     },
     "execution_count": 305,
     "metadata": {},
     "output_type": "execute_result"
    }
   ],
   "source": [
    "target"
   ]
  },
  {
   "cell_type": "code",
   "execution_count": null,
   "id": "221a7950",
   "metadata": {},
   "outputs": [],
   "source": []
  }
 ],
 "metadata": {
  "kernelspec": {
   "display_name": "Python 3",
   "language": "python",
   "name": "python3"
  },
  "language_info": {
   "codemirror_mode": {
    "name": "ipython",
    "version": 3
   },
   "file_extension": ".py",
   "mimetype": "text/x-python",
   "name": "python",
   "nbconvert_exporter": "python",
   "pygments_lexer": "ipython3",
   "version": "3.9.5"
  }
 },
 "nbformat": 4,
 "nbformat_minor": 5
}

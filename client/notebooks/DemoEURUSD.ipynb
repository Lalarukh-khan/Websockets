{
 "cells": [
  {
   "cell_type": "markdown",
   "id": "f4492c1d",
   "metadata": {},
   "source": [
    "# Predicting EUR"
   ]
  },
  {
   "cell_type": "code",
   "execution_count": null,
   "id": "829c3096",
   "metadata": {},
   "outputs": [],
   "source": [
    "from itertools import product\n",
    "from functools import partial\n",
    "import datetime as dt\n",
    "import pandas as pd\n",
    "import satori"
   ]
  },
  {
   "cell_type": "code",
   "execution_count": null,
   "id": "01b76530",
   "metadata": {
    "scrolled": true
   },
   "outputs": [],
   "source": [
    "try:\n",
    "    df = pd.read_csv(\"../data/history/EUR.csv\", index_col=0)\n",
    "except:\n",
    "    df = satori.apis.fx.compileHistory(\n",
    "        name='EUR', \n",
    "        days=8000, \n",
    "        cooldown=0, \n",
    "        saveDuring=True)\n",
    "df.head(2)"
   ]
  },
  {
   "cell_type": "code",
   "execution_count": null,
   "id": "94682d1b",
   "metadata": {},
   "outputs": [],
   "source": [
    "df.columns"
   ]
  },
  {
   "cell_type": "code",
   "execution_count": null,
   "id": "f2c489a3",
   "metadata": {},
   "outputs": [],
   "source": [
    "targets = ['USD', 'CHF', 'GBP', 'CAD', 'AUD', 'NZD', 'JPY',]\n",
    "times = ['year', 'month', 'day', 'weekday',]"
   ]
  },
  {
   "cell_type": "code",
   "execution_count": null,
   "id": "bc2c8edb",
   "metadata": {},
   "outputs": [],
   "source": [
    "# drop rows if targets are nan\n",
    "df = df.drop(index=df[df[targets].isna().any(axis=1)].index)"
   ]
  },
  {
   "cell_type": "code",
   "execution_count": null,
   "id": "eec468ff",
   "metadata": {},
   "outputs": [],
   "source": [
    "# drop all but targets and times\n",
    "df = df[[*targets, *times]]\n",
    "df.tail(2)"
   ]
  },
  {
   "cell_type": "code",
   "execution_count": null,
   "id": "459e3c37",
   "metadata": {},
   "outputs": [],
   "source": [
    "# todo: get all the missing days one at a time"
   ]
  },
  {
   "cell_type": "code",
   "execution_count": null,
   "id": "e9f0a8ef",
   "metadata": {},
   "outputs": [],
   "source": [
    "# todo: get high low close in usd too."
   ]
  },
  {
   "cell_type": "code",
   "execution_count": null,
   "id": "7b1ea077",
   "metadata": {},
   "outputs": [],
   "source": [
    "def getData(date=None) -> pd.DataFrame:\n",
    "    ''' returns most recent price (as of 3pm daily) '''\n",
    "    rates = satori.apis.fx.getCurrent(date=date)\n",
    "    targets = ['USD', 'CHF', 'GBP', 'CAD', 'AUD', 'NZD', 'JPY',]\n",
    "    times = ['year', 'month', 'day', 'weekday',]\n",
    "    rates = rates.drop(index=df[df[targets].isna().any(axis=1)].index)\n",
    "    rates = rates[[*targets, *times]]\n",
    "    return rates"
   ]
  },
  {
   "cell_type": "code",
   "execution_count": null,
   "id": "6e827f93",
   "metadata": {},
   "outputs": [],
   "source": [
    "def validateData(data:pd.DataFrame, existing:pd.DataFrame) -> bool:\n",
    "    def lastRow():\n",
    "        return existing.iloc[-1:,:]\n",
    "\n",
    "    if data.empty or lastRow().equals(data):\n",
    "        return False\n",
    "    return True"
   ]
  },
  {
   "cell_type": "code",
   "execution_count": null,
   "id": "a69c2374",
   "metadata": {},
   "outputs": [],
   "source": [
    "# update dataset...\n",
    "last = df.iloc[-1:,:].index[0]\n",
    "date = dt.datetime.strptime(last, '%Y-%m-%d').date()\n",
    "x = 0\n",
    "while date < dt.datetime.now().date() + dt.timedelta(days=-1):\n",
    "    x += 1\n",
    "    date = date + dt.timedelta(days=1)\n",
    "    row = getData(date=date)\n",
    "    df = satori.DataManager.defaultAppend(data=row, existing=df, resetIndex=False)\n",
    "if x > 0:\n",
    "    df.to_csv('../data/history/EUR.csv')\n",
    "df"
   ]
  },
  {
   "cell_type": "code",
   "execution_count": null,
   "id": "5ca8361c",
   "metadata": {},
   "outputs": [],
   "source": [
    "data = satori.DataManager(\n",
    "    data=df,\n",
    "    getData=getData,\n",
    "    validateData=validateData,\n",
    "    appendData=partial(satori.DataManager.defaultAppend, resetIndex=False))"
   ]
  },
  {
   "cell_type": "code",
   "execution_count": null,
   "id": "1c0e6cf1",
   "metadata": {},
   "outputs": [],
   "source": [
    "api = satori.apis.google.Google()"
   ]
  },
  {
   "cell_type": "code",
   "execution_count": null,
   "id": "9633a1d9",
   "metadata": {},
   "outputs": [],
   "source": [
    "kwargs = {\n",
    "    'hyperParameters': [\n",
    "        satori.HyperParameter(\n",
    "            name='n_estimators',\n",
    "            value=300,\n",
    "            kind=int,\n",
    "            limit=100,\n",
    "            minimum=200,\n",
    "            maximum=5000),\n",
    "        satori.HyperParameter(\n",
    "            name='learning_rate',\n",
    "            value=0.3,\n",
    "            kind=float,\n",
    "            limit=.05,\n",
    "            minimum=.01,\n",
    "            maximum=.1),\n",
    "        satori.HyperParameter(\n",
    "            name='max_depth',\n",
    "            value=6,\n",
    "            kind=int,\n",
    "            limit=1,\n",
    "            minimum=2,\n",
    "            maximum=10),\n",
    "        #satori.HyperParameter(\n",
    "        #    name='gamma',\n",
    "        #    value=0,\n",
    "        #    kind=float,\n",
    "        #    limit=.05,\n",
    "        #    minimum=0,\n",
    "        #    maximum=1),\n",
    "        #satori.HyperParameter(\n",
    "        #    name='min_child_weight',\n",
    "        #    value=1,\n",
    "        #    kind=float,\n",
    "        #    limit=.1,\n",
    "        #    minimum=0,\n",
    "        #    maximum=5),\n",
    "        #satori.HyperParameter(\n",
    "        #    name='max_delta_step',\n",
    "        #    value=0,\n",
    "        #    kind=float,\n",
    "        #    limit=.01,\n",
    "        #    minimum=0,\n",
    "        #    maximum=1),\n",
    "        #satori.HyperParameter(\n",
    "        #    name='scale_pos_weight',\n",
    "        #    value=1,\n",
    "        #    kind=float,\n",
    "        #    limit=.1,\n",
    "        #    minimum=0,\n",
    "        #    maximum=5),\n",
    "        #satori.HyperParameter(\n",
    "        #    name='base_score',\n",
    "        #    value=.5,\n",
    "        #    kind=float,\n",
    "        #    limit=.05,\n",
    "        #    minimum=0,\n",
    "        #    maximum=1),\n",
    "    ],\n",
    "    'metrics':  {\n",
    "        # raw data features\n",
    "        'raw': satori.ModelManager.rawDataMetric,\n",
    "        # daily percentage change, 1 day ago, 2 days ago, 3 days ago... \n",
    "        **{f'Daily{i}': partial(satori.ModelManager.dailyPercentChangeMetric, yesterday=i) for i in list(range(1, 31))},\n",
    "        # rolling period transformation percentage change, max of the last 7 days, etc... \n",
    "        **{f'Rolling{i}{tx[0:3]}': partial(satori.ModelManager.rollingPercentChangeMetric, window=i, transformation=tx)\n",
    "            for tx, i in product('sum() max() min() mean() median() std()'.split(), list(range(2, 21)))},\n",
    "        # rolling period transformation percentage change, max of the last 50 or 70 days, etc... \n",
    "        **{f'Rolling{i}{tx[0:3]}': partial(satori.ModelManager.rollingPercentChangeMetric, window=i, transformation=tx)\n",
    "            for tx, i in product('sum() max() min() mean() median() std()'.split(), list(range(22, 90, 7)))}},\n",
    "    'override': False}"
   ]
  },
  {
   "cell_type": "code",
   "execution_count": null,
   "id": "f8a557f8",
   "metadata": {},
   "outputs": [],
   "source": [
    "learner = satori.Learner(\n",
    "    cooldown=3,\n",
    "    recess=3,\n",
    "    api=api,\n",
    "    data=data,\n",
    "    models={\n",
    "        satori.ModelManager(\n",
    "            modelPath=f'../models/EUR{currency}.jobLib',\n",
    "            chosenFeatures=[f'Raw{currency}'],\n",
    "            pinnedFeatures=[f'Raw{currency}'],\n",
    "            targetKey=currency,\n",
    "            **kwargs) \n",
    "        for currency in targets\n",
    "    })"
   ]
  },
  {
   "cell_type": "code",
   "execution_count": null,
   "id": "bd82df25",
   "metadata": {
    "scrolled": false
   },
   "outputs": [],
   "source": [
    "learner.run(cooldown=0, recess=60*60*23, points=10, view=False)"
   ]
  }
 ],
 "metadata": {
  "kernelspec": {
   "display_name": "Python 3",
   "language": "python",
   "name": "python3"
  },
  "language_info": {
   "codemirror_mode": {
    "name": "ipython",
    "version": 3
   },
   "file_extension": ".py",
   "mimetype": "text/x-python",
   "name": "python",
   "nbconvert_exporter": "python",
   "pygments_lexer": "ipython3",
   "version": "3.9.5"
  }
 },
 "nbformat": 4,
 "nbformat_minor": 5
}
